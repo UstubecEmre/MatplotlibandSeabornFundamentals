{
 "cells": [
  {
   "cell_type": "markdown",
   "id": "4a6bcd07",
   "metadata": {},
   "source": [
    "# 1.What is a jointplot in Seaborn?\n",
    "🔹 sns.jointplot() is a figure-level function in Seaborn that creates:\n",
    "\n",
    "A scatter plot (or other bivariate plot) between two numerical variables\n",
    "\n",
    "Along with their individual distributions (histogram, KDE, etc.) shown on the top and right axes\n",
    "\n",
    "# 2. Why do we use jointplot?\n",
    "<table>\n",
    "    <tr>\n",
    "        <th>Purpose</th>\n",
    "        <th>Explanation</th>\n",
    "    </tr>\n",
    "    <tr>\n",
    "        <td>Explore Relationships</td>\n",
    "        <td>Shows how two numeric variables relate (linear, nonlinear, clusters?)</td>\n",
    "    </tr>\n",
    "    <tr>\n",
    "        <td>See Distributions</td>\n",
    "        <td>Also shows each variable's distribution with hist or KDE</td>\n",
    "    </tr>\n",
    "    <tr>\n",
    "        <td>Compact View</td>\n",
    "        <td>Combines multiple charts into one easy-to-read plot</td>\n",
    "    </tr>\n",
    "    <tr>\n",
    "        <td>Compare Groups (with hue)</td>\n",
    "        <td>\tUseful for comparing subgroups (like gender, branch, etc.)</td>\n",
    "    </tr>\n",
    "</table>\n",
    "\n",
    "# 3. Is It Important?\n",
    "It helps you quickly answer:\n",
    "\n",
    "Is there correlation between X and Y?\n",
    "\n",
    "Are there outliers?\n",
    "\n",
    "How are the values distributed?"
   ]
  },
  {
   "cell_type": "markdown",
   "id": "bd528dbc",
   "metadata": {},
   "source": []
  }
 ],
 "metadata": {
  "language_info": {
   "name": "python"
  }
 },
 "nbformat": 4,
 "nbformat_minor": 5
}
