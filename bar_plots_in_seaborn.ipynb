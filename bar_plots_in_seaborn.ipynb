{
 "cells": [
  {
   "cell_type": "markdown",
   "id": "4f5765ec",
   "metadata": {},
   "source": [
    "# 1. 📊 What are Bar Plots in Seaborn?\n",
    "A bar plot shows average (or other aggregation) of a numerical variable for each category of a categorical variable.\n",
    "\n",
    "In Seaborn, the function used is sns.barplot().\n",
    "\n",
    "It’s part of Seaborn’s categorical plotting functions.\n",
    "\n",
    "\n",
    "# 2. 🎯 Why Do We Use Bar Plots?\n",
    "<table>\n",
    "    <tr>\n",
    "        <th>Purpose</th>\n",
    "        <th>Explanation</th>\n",
    "    </tr>\n",
    "    <tr>\n",
    "        <td>Compare Categories</td>\n",
    "        <td>Visually compare different groups (e.g., average sales by gender).</td>\n",
    "    </tr>\n",
    "    <tr>\n",
    "        <td>Summarize numeric data</td>\n",
    "        <td>Show mean (by default), median, or other summaries for each category.</td>\n",
    "    </tr>\n",
    "    <tr>\n",
    "        <td>Add error bars</td>\n",
    "        <td>Seaborn can show standard deviation or confidence intervals automatically.</td>\n",
    "    </tr>\n",
    "    <tr>\n",
    "        <td>Custom aggregations</td>\n",
    "        <td>You can choose different metrics like median using the estimator argument.</td>\n",
    "    </tr>\n",
    "</table>\n",
    "\n",
    "\n",
    "\n",
    "\n",
    "# 3. Code Examples\n",
    "\n",
    "> import libraries\n",
    "\n",
    "<em>import seaborn as sns</em>\n",
    "\n",
    "<em>import matplotlib.pyplot as plt</em>\n",
    "\n",
    "> use barplot\n",
    "\n",
    "<b>sns.barplot(data=df, x=\"CategoryColumn\", y=\"NumericColumn\")</b>\n",
    "\n",
    "plt.title(\"Bar Plot Example\")\n",
    "\n",
    "plt.show()"
   ]
  },
  {
   "cell_type": "markdown",
   "id": "656fbb52",
   "metadata": {},
   "source": []
  }
 ],
 "metadata": {
  "language_info": {
   "name": "python"
  }
 },
 "nbformat": 4,
 "nbformat_minor": 5
}
