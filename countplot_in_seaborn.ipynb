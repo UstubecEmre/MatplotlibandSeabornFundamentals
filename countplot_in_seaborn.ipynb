{
 "cells": [
  {
   "cell_type": "markdown",
   "id": "718ede83",
   "metadata": {},
   "source": [
    "# 1. 📊 What is countplot in Seaborn?\n",
    "countplot is a function in the Seaborn library.\n",
    "\n",
    "It is used to create bar plots that show the count (frequency) of each category in a categorical column.\n",
    "\n",
    "It is very useful for exploring categorical data.\n",
    "\n",
    "# 2. 🎯 Why Do We Use countplot?\n",
    "\n",
    "<table>\n",
    "    <tr>\n",
    "        <th>Purpose</th>\n",
    "        <th>Explanation</th>\n",
    "    </tr>\n",
    "    <tr>\n",
    "        <td>Count categories</td>\n",
    "        <td>Shows how many times each category appears in your data.</td>\n",
    "    </tr>\n",
    "    <tr>\n",
    "        <td>Quick insight</td>\n",
    "        <td>Easy way to see the distribution of a categorical feature.</td>\n",
    "    </tr>\n",
    "    <tr>\n",
    "        <td>EDA tool</td>\n",
    "        <td>Commonly used in Exploratory Data Analysis (EDA).</td>\n",
    "    </tr>\n",
    "    <tr>\n",
    "        <td>Easy to read</td>\n",
    "        <td>Visualizes counts better than looking at raw numbers or tables.</td>\n",
    "    </tr>\n",
    "</table>"
   ]
  },
  {
   "cell_type": "markdown",
   "id": "fc099e89",
   "metadata": {},
   "source": []
  }
 ],
 "metadata": {
  "language_info": {
   "name": "python"
  }
 },
 "nbformat": 4,
 "nbformat_minor": 5
}
