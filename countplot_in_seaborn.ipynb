{
 "cells": [
  {
   "cell_type": "markdown",
   "id": "718ede83",
   "metadata": {},
   "source": [
    "# 1. 📊 What is countplot in Seaborn?\n",
    "countplot is a function in the Seaborn library.\n",
    "\n",
    "It is used to create bar plots that show the count (frequency) of each category in a categorical column.\n",
    "\n",
    "It is very useful for exploring categorical data.\n",
    "\n",
    "# 2. 🎯 Why Do We Use countplot?\n",
    "\n",
    "<table>\n",
    "    <tr>\n",
    "        <th>Purpose</th>\n",
    "        <th>Explanation</th>\n",
    "    </tr>\n",
    "    <tr>\n",
    "        <td>Count categories</td>\n",
    "        <td>Shows how many times each category appears in your data.</td>\n",
    "    </tr>\n",
    "    <tr>\n",
    "        <td>Quick insight</td>\n",
    "        <td>Easy way to see the distribution of a categorical feature.</td>\n",
    "    </tr>\n",
    "    <tr>\n",
    "        <td>EDA tool</td>\n",
    "        <td>Commonly used in Exploratory Data Analysis (EDA).</td>\n",
    "    </tr>\n",
    "    <tr>\n",
    "        <td>Easy to read</td>\n",
    "        <td>Visualizes counts better than looking at raw numbers or tables.</td>\n",
    "    </tr>\n",
    "</table>"
   ]
  },
  {
   "cell_type": "code",
   "execution_count": 1,
   "id": "bf7f591b",
   "metadata": {},
   "outputs": [],
   "source": [
    "# import libraries\n",
    "import numpy as np # for linear algrebra etc.\n",
    "import pandas as pd # for data cleaning, convert to DataFrame etc.\n",
    "import matplotlib.pyplot as plt # for data visaualization\n",
    "import seaborn as sns # for data visualization\n"
   ]
  },
  {
   "cell_type": "code",
   "execution_count": 2,
   "id": "4e6fcbe9",
   "metadata": {},
   "outputs": [
    {
     "data": {
      "application/vnd.microsoft.datawrangler.viewer.v0+json": {
       "columns": [
        {
         "name": "index",
         "rawType": "int64",
         "type": "integer"
        },
        {
         "name": "Invoice ID",
         "rawType": "object",
         "type": "string"
        },
        {
         "name": "Branch",
         "rawType": "object",
         "type": "string"
        },
        {
         "name": "City",
         "rawType": "object",
         "type": "string"
        },
        {
         "name": "Customer type",
         "rawType": "object",
         "type": "string"
        },
        {
         "name": "Gender",
         "rawType": "object",
         "type": "string"
        },
        {
         "name": "Product line",
         "rawType": "object",
         "type": "string"
        },
        {
         "name": "Unit price",
         "rawType": "float64",
         "type": "float"
        },
        {
         "name": "Quantity",
         "rawType": "int64",
         "type": "integer"
        },
        {
         "name": "Tax 5%",
         "rawType": "float64",
         "type": "float"
        },
        {
         "name": "Total",
         "rawType": "float64",
         "type": "float"
        },
        {
         "name": "Date",
         "rawType": "object",
         "type": "string"
        },
        {
         "name": "Time",
         "rawType": "object",
         "type": "string"
        },
        {
         "name": "Payment",
         "rawType": "object",
         "type": "string"
        },
        {
         "name": "cogs",
         "rawType": "float64",
         "type": "float"
        },
        {
         "name": "gross margin percentage",
         "rawType": "float64",
         "type": "float"
        },
        {
         "name": "gross income",
         "rawType": "float64",
         "type": "float"
        },
        {
         "name": "Rating",
         "rawType": "float64",
         "type": "float"
        }
       ],
       "ref": "3e967f37-1bd5-4ea1-ac98-e23f3a26f7cc",
       "rows": [
        [
         "0",
         "692-92-5582",
         "B",
         "Mandalay",
         "Member",
         "Female",
         "Food_and_beverages",
         "54.84",
         "3",
         "8.226",
         "172.746",
         "2/20/2019",
         "13:27:00",
         "Credit card",
         "164.52",
         "4.761904762",
         "8.226",
         "5.9"
        ],
        [
         "1",
         "351-62-0822",
         "B",
         "Mandalay",
         "Member",
         "Female",
         "Fashion_accessories",
         "14.48",
         "4",
         "2.896",
         "60.816",
         "2019-06-02 00:00:00",
         "18:07:00",
         "Ewallet",
         "57.92",
         "4.761904762",
         "2.896",
         "4.5"
        ],
        [
         "2",
         "529-56-3974",
         "B",
         "Mandalay",
         "Member",
         "Male",
         "Electronic_accessories",
         "25.51",
         "4",
         "5.102",
         "107.142",
         "2019-09-03 00:00:00",
         "17:03:00",
         "Cash",
         "102.04",
         "4.761904762",
         "5.102",
         "6.8"
        ],
        [
         "3",
         "299-46-1805",
         "B",
         "Mandalay",
         "Member",
         "Female",
         "Sports_and_travel",
         "93.72",
         "6",
         "28.116",
         "590.436",
         "1/15/2019",
         "16:19:00",
         "Cash",
         "562.32",
         "4.761904762",
         "28.116",
         "4.5"
        ],
        [
         "4",
         "319-50-3348",
         "B",
         "Mandalay",
         "Normal",
         "Female",
         "Home_and_lifestyle",
         "40.3",
         "2",
         "4.03",
         "84.63",
         "2019-11-03 00:00:00",
         "15:30:00",
         "Ewallet",
         "80.6",
         "4.761904762",
         "4.03",
         "4.4"
        ]
       ],
       "shape": {
        "columns": 17,
        "rows": 5
       }
      },
      "text/html": [
       "<div>\n",
       "<style scoped>\n",
       "    .dataframe tbody tr th:only-of-type {\n",
       "        vertical-align: middle;\n",
       "    }\n",
       "\n",
       "    .dataframe tbody tr th {\n",
       "        vertical-align: top;\n",
       "    }\n",
       "\n",
       "    .dataframe thead th {\n",
       "        text-align: right;\n",
       "    }\n",
       "</style>\n",
       "<table border=\"1\" class=\"dataframe\">\n",
       "  <thead>\n",
       "    <tr style=\"text-align: right;\">\n",
       "      <th></th>\n",
       "      <th>Invoice ID</th>\n",
       "      <th>Branch</th>\n",
       "      <th>City</th>\n",
       "      <th>Customer type</th>\n",
       "      <th>Gender</th>\n",
       "      <th>Product line</th>\n",
       "      <th>Unit price</th>\n",
       "      <th>Quantity</th>\n",
       "      <th>Tax 5%</th>\n",
       "      <th>Total</th>\n",
       "      <th>Date</th>\n",
       "      <th>Time</th>\n",
       "      <th>Payment</th>\n",
       "      <th>cogs</th>\n",
       "      <th>gross margin percentage</th>\n",
       "      <th>gross income</th>\n",
       "      <th>Rating</th>\n",
       "    </tr>\n",
       "  </thead>\n",
       "  <tbody>\n",
       "    <tr>\n",
       "      <th>0</th>\n",
       "      <td>692-92-5582</td>\n",
       "      <td>B</td>\n",
       "      <td>Mandalay</td>\n",
       "      <td>Member</td>\n",
       "      <td>Female</td>\n",
       "      <td>Food_and_beverages</td>\n",
       "      <td>54.84</td>\n",
       "      <td>3</td>\n",
       "      <td>8.226</td>\n",
       "      <td>172.746</td>\n",
       "      <td>2/20/2019</td>\n",
       "      <td>13:27:00</td>\n",
       "      <td>Credit card</td>\n",
       "      <td>164.52</td>\n",
       "      <td>4.761905</td>\n",
       "      <td>8.226</td>\n",
       "      <td>5.9</td>\n",
       "    </tr>\n",
       "    <tr>\n",
       "      <th>1</th>\n",
       "      <td>351-62-0822</td>\n",
       "      <td>B</td>\n",
       "      <td>Mandalay</td>\n",
       "      <td>Member</td>\n",
       "      <td>Female</td>\n",
       "      <td>Fashion_accessories</td>\n",
       "      <td>14.48</td>\n",
       "      <td>4</td>\n",
       "      <td>2.896</td>\n",
       "      <td>60.816</td>\n",
       "      <td>2019-06-02 00:00:00</td>\n",
       "      <td>18:07:00</td>\n",
       "      <td>Ewallet</td>\n",
       "      <td>57.92</td>\n",
       "      <td>4.761905</td>\n",
       "      <td>2.896</td>\n",
       "      <td>4.5</td>\n",
       "    </tr>\n",
       "    <tr>\n",
       "      <th>2</th>\n",
       "      <td>529-56-3974</td>\n",
       "      <td>B</td>\n",
       "      <td>Mandalay</td>\n",
       "      <td>Member</td>\n",
       "      <td>Male</td>\n",
       "      <td>Electronic_accessories</td>\n",
       "      <td>25.51</td>\n",
       "      <td>4</td>\n",
       "      <td>5.102</td>\n",
       "      <td>107.142</td>\n",
       "      <td>2019-09-03 00:00:00</td>\n",
       "      <td>17:03:00</td>\n",
       "      <td>Cash</td>\n",
       "      <td>102.04</td>\n",
       "      <td>4.761905</td>\n",
       "      <td>5.102</td>\n",
       "      <td>6.8</td>\n",
       "    </tr>\n",
       "    <tr>\n",
       "      <th>3</th>\n",
       "      <td>299-46-1805</td>\n",
       "      <td>B</td>\n",
       "      <td>Mandalay</td>\n",
       "      <td>Member</td>\n",
       "      <td>Female</td>\n",
       "      <td>Sports_and_travel</td>\n",
       "      <td>93.72</td>\n",
       "      <td>6</td>\n",
       "      <td>28.116</td>\n",
       "      <td>590.436</td>\n",
       "      <td>1/15/2019</td>\n",
       "      <td>16:19:00</td>\n",
       "      <td>Cash</td>\n",
       "      <td>562.32</td>\n",
       "      <td>4.761905</td>\n",
       "      <td>28.116</td>\n",
       "      <td>4.5</td>\n",
       "    </tr>\n",
       "    <tr>\n",
       "      <th>4</th>\n",
       "      <td>319-50-3348</td>\n",
       "      <td>B</td>\n",
       "      <td>Mandalay</td>\n",
       "      <td>Normal</td>\n",
       "      <td>Female</td>\n",
       "      <td>Home_and_lifestyle</td>\n",
       "      <td>40.30</td>\n",
       "      <td>2</td>\n",
       "      <td>4.030</td>\n",
       "      <td>84.630</td>\n",
       "      <td>2019-11-03 00:00:00</td>\n",
       "      <td>15:30:00</td>\n",
       "      <td>Ewallet</td>\n",
       "      <td>80.60</td>\n",
       "      <td>4.761905</td>\n",
       "      <td>4.030</td>\n",
       "      <td>4.4</td>\n",
       "    </tr>\n",
       "  </tbody>\n",
       "</table>\n",
       "</div>"
      ],
      "text/plain": [
       "    Invoice ID Branch      City Customer type  Gender            Product line  \\\n",
       "0  692-92-5582      B  Mandalay        Member  Female      Food_and_beverages   \n",
       "1  351-62-0822      B  Mandalay        Member  Female     Fashion_accessories   \n",
       "2  529-56-3974      B  Mandalay        Member    Male  Electronic_accessories   \n",
       "3  299-46-1805      B  Mandalay        Member  Female       Sports_and_travel   \n",
       "4  319-50-3348      B  Mandalay        Normal  Female      Home_and_lifestyle   \n",
       "\n",
       "   Unit price  Quantity  Tax 5%    Total                 Date      Time  \\\n",
       "0       54.84         3   8.226  172.746            2/20/2019  13:27:00   \n",
       "1       14.48         4   2.896   60.816  2019-06-02 00:00:00  18:07:00   \n",
       "2       25.51         4   5.102  107.142  2019-09-03 00:00:00  17:03:00   \n",
       "3       93.72         6  28.116  590.436            1/15/2019  16:19:00   \n",
       "4       40.30         2   4.030   84.630  2019-11-03 00:00:00  15:30:00   \n",
       "\n",
       "       Payment    cogs  gross margin percentage  gross income  Rating  \n",
       "0  Credit card  164.52                 4.761905         8.226     5.9  \n",
       "1      Ewallet   57.92                 4.761905         2.896     4.5  \n",
       "2         Cash  102.04                 4.761905         5.102     6.8  \n",
       "3         Cash  562.32                 4.761905        28.116     4.5  \n",
       "4      Ewallet   80.60                 4.761905         4.030     4.4  "
      ]
     },
     "execution_count": 2,
     "metadata": {},
     "output_type": "execute_result"
    }
   ],
   "source": [
    "# import dataset\n",
    "file_path = r\"D:\\DataVisualizationForPython\\datasets\\supermarket_sales_utf8.csv\"\n",
    "\n",
    "sales = pd.read_csv(file_path)\n",
    "if sales is None:\n",
    "    raise FileNotFoundError(\"We Ara Sorry, File Path Not Found\")\n",
    "\n",
    "df_sales = pd.DataFrame(sales)\n",
    "sales.head()"
   ]
  },
  {
   "cell_type": "code",
   "execution_count": 3,
   "id": "883ae4f4",
   "metadata": {},
   "outputs": [
    {
     "data": {
      "application/vnd.microsoft.datawrangler.viewer.v0+json": {
       "columns": [
        {
         "name": "index",
         "rawType": "int64",
         "type": "integer"
        },
        {
         "name": "invoice_id",
         "rawType": "object",
         "type": "string"
        },
        {
         "name": "branch",
         "rawType": "object",
         "type": "string"
        },
        {
         "name": "city",
         "rawType": "object",
         "type": "string"
        },
        {
         "name": "customer_type",
         "rawType": "object",
         "type": "string"
        },
        {
         "name": "gender",
         "rawType": "object",
         "type": "string"
        },
        {
         "name": "product_line",
         "rawType": "object",
         "type": "string"
        },
        {
         "name": "unit_price",
         "rawType": "float64",
         "type": "float"
        },
        {
         "name": "quantity",
         "rawType": "int64",
         "type": "integer"
        },
        {
         "name": "tax_5%",
         "rawType": "float64",
         "type": "float"
        },
        {
         "name": "total",
         "rawType": "float64",
         "type": "float"
        },
        {
         "name": "date",
         "rawType": "object",
         "type": "string"
        },
        {
         "name": "time",
         "rawType": "object",
         "type": "string"
        },
        {
         "name": "payment",
         "rawType": "object",
         "type": "string"
        },
        {
         "name": "cogs",
         "rawType": "float64",
         "type": "float"
        },
        {
         "name": "gross_margin_percentage",
         "rawType": "float64",
         "type": "float"
        },
        {
         "name": "gross_income",
         "rawType": "float64",
         "type": "float"
        },
        {
         "name": "rating",
         "rawType": "float64",
         "type": "float"
        }
       ],
       "ref": "2e1da16e-152f-4018-afec-86df80ccc77d",
       "rows": [
        [
         "0",
         "692-92-5582",
         "B",
         "Mandalay",
         "Member",
         "Female",
         "Food_and_beverages",
         "54.84",
         "3",
         "8.226",
         "172.746",
         "2/20/2019",
         "13:27:00",
         "Credit card",
         "164.52",
         "4.761904762",
         "8.226",
         "5.9"
        ],
        [
         "1",
         "351-62-0822",
         "B",
         "Mandalay",
         "Member",
         "Female",
         "Fashion_accessories",
         "14.48",
         "4",
         "2.896",
         "60.816",
         "2019-06-02 00:00:00",
         "18:07:00",
         "Ewallet",
         "57.92",
         "4.761904762",
         "2.896",
         "4.5"
        ],
        [
         "2",
         "529-56-3974",
         "B",
         "Mandalay",
         "Member",
         "Male",
         "Electronic_accessories",
         "25.51",
         "4",
         "5.102",
         "107.142",
         "2019-09-03 00:00:00",
         "17:03:00",
         "Cash",
         "102.04",
         "4.761904762",
         "5.102",
         "6.8"
        ],
        [
         "3",
         "299-46-1805",
         "B",
         "Mandalay",
         "Member",
         "Female",
         "Sports_and_travel",
         "93.72",
         "6",
         "28.116",
         "590.436",
         "1/15/2019",
         "16:19:00",
         "Cash",
         "562.32",
         "4.761904762",
         "28.116",
         "4.5"
        ],
        [
         "4",
         "319-50-3348",
         "B",
         "Mandalay",
         "Normal",
         "Female",
         "Home_and_lifestyle",
         "40.3",
         "2",
         "4.03",
         "84.63",
         "2019-11-03 00:00:00",
         "15:30:00",
         "Ewallet",
         "80.6",
         "4.761904762",
         "4.03",
         "4.4"
        ]
       ],
       "shape": {
        "columns": 17,
        "rows": 5
       }
      },
      "text/html": [
       "<div>\n",
       "<style scoped>\n",
       "    .dataframe tbody tr th:only-of-type {\n",
       "        vertical-align: middle;\n",
       "    }\n",
       "\n",
       "    .dataframe tbody tr th {\n",
       "        vertical-align: top;\n",
       "    }\n",
       "\n",
       "    .dataframe thead th {\n",
       "        text-align: right;\n",
       "    }\n",
       "</style>\n",
       "<table border=\"1\" class=\"dataframe\">\n",
       "  <thead>\n",
       "    <tr style=\"text-align: right;\">\n",
       "      <th></th>\n",
       "      <th>invoice_id</th>\n",
       "      <th>branch</th>\n",
       "      <th>city</th>\n",
       "      <th>customer_type</th>\n",
       "      <th>gender</th>\n",
       "      <th>product_line</th>\n",
       "      <th>unit_price</th>\n",
       "      <th>quantity</th>\n",
       "      <th>tax_5%</th>\n",
       "      <th>total</th>\n",
       "      <th>date</th>\n",
       "      <th>time</th>\n",
       "      <th>payment</th>\n",
       "      <th>cogs</th>\n",
       "      <th>gross_margin_percentage</th>\n",
       "      <th>gross_income</th>\n",
       "      <th>rating</th>\n",
       "    </tr>\n",
       "  </thead>\n",
       "  <tbody>\n",
       "    <tr>\n",
       "      <th>0</th>\n",
       "      <td>692-92-5582</td>\n",
       "      <td>B</td>\n",
       "      <td>Mandalay</td>\n",
       "      <td>Member</td>\n",
       "      <td>Female</td>\n",
       "      <td>Food_and_beverages</td>\n",
       "      <td>54.84</td>\n",
       "      <td>3</td>\n",
       "      <td>8.226</td>\n",
       "      <td>172.746</td>\n",
       "      <td>2/20/2019</td>\n",
       "      <td>13:27:00</td>\n",
       "      <td>Credit card</td>\n",
       "      <td>164.52</td>\n",
       "      <td>4.761905</td>\n",
       "      <td>8.226</td>\n",
       "      <td>5.9</td>\n",
       "    </tr>\n",
       "    <tr>\n",
       "      <th>1</th>\n",
       "      <td>351-62-0822</td>\n",
       "      <td>B</td>\n",
       "      <td>Mandalay</td>\n",
       "      <td>Member</td>\n",
       "      <td>Female</td>\n",
       "      <td>Fashion_accessories</td>\n",
       "      <td>14.48</td>\n",
       "      <td>4</td>\n",
       "      <td>2.896</td>\n",
       "      <td>60.816</td>\n",
       "      <td>2019-06-02 00:00:00</td>\n",
       "      <td>18:07:00</td>\n",
       "      <td>Ewallet</td>\n",
       "      <td>57.92</td>\n",
       "      <td>4.761905</td>\n",
       "      <td>2.896</td>\n",
       "      <td>4.5</td>\n",
       "    </tr>\n",
       "    <tr>\n",
       "      <th>2</th>\n",
       "      <td>529-56-3974</td>\n",
       "      <td>B</td>\n",
       "      <td>Mandalay</td>\n",
       "      <td>Member</td>\n",
       "      <td>Male</td>\n",
       "      <td>Electronic_accessories</td>\n",
       "      <td>25.51</td>\n",
       "      <td>4</td>\n",
       "      <td>5.102</td>\n",
       "      <td>107.142</td>\n",
       "      <td>2019-09-03 00:00:00</td>\n",
       "      <td>17:03:00</td>\n",
       "      <td>Cash</td>\n",
       "      <td>102.04</td>\n",
       "      <td>4.761905</td>\n",
       "      <td>5.102</td>\n",
       "      <td>6.8</td>\n",
       "    </tr>\n",
       "    <tr>\n",
       "      <th>3</th>\n",
       "      <td>299-46-1805</td>\n",
       "      <td>B</td>\n",
       "      <td>Mandalay</td>\n",
       "      <td>Member</td>\n",
       "      <td>Female</td>\n",
       "      <td>Sports_and_travel</td>\n",
       "      <td>93.72</td>\n",
       "      <td>6</td>\n",
       "      <td>28.116</td>\n",
       "      <td>590.436</td>\n",
       "      <td>1/15/2019</td>\n",
       "      <td>16:19:00</td>\n",
       "      <td>Cash</td>\n",
       "      <td>562.32</td>\n",
       "      <td>4.761905</td>\n",
       "      <td>28.116</td>\n",
       "      <td>4.5</td>\n",
       "    </tr>\n",
       "    <tr>\n",
       "      <th>4</th>\n",
       "      <td>319-50-3348</td>\n",
       "      <td>B</td>\n",
       "      <td>Mandalay</td>\n",
       "      <td>Normal</td>\n",
       "      <td>Female</td>\n",
       "      <td>Home_and_lifestyle</td>\n",
       "      <td>40.30</td>\n",
       "      <td>2</td>\n",
       "      <td>4.030</td>\n",
       "      <td>84.630</td>\n",
       "      <td>2019-11-03 00:00:00</td>\n",
       "      <td>15:30:00</td>\n",
       "      <td>Ewallet</td>\n",
       "      <td>80.60</td>\n",
       "      <td>4.761905</td>\n",
       "      <td>4.030</td>\n",
       "      <td>4.4</td>\n",
       "    </tr>\n",
       "  </tbody>\n",
       "</table>\n",
       "</div>"
      ],
      "text/plain": [
       "    invoice_id branch      city customer_type  gender            product_line  \\\n",
       "0  692-92-5582      B  Mandalay        Member  Female      Food_and_beverages   \n",
       "1  351-62-0822      B  Mandalay        Member  Female     Fashion_accessories   \n",
       "2  529-56-3974      B  Mandalay        Member    Male  Electronic_accessories   \n",
       "3  299-46-1805      B  Mandalay        Member  Female       Sports_and_travel   \n",
       "4  319-50-3348      B  Mandalay        Normal  Female      Home_and_lifestyle   \n",
       "\n",
       "   unit_price  quantity  tax_5%    total                 date      time  \\\n",
       "0       54.84         3   8.226  172.746            2/20/2019  13:27:00   \n",
       "1       14.48         4   2.896   60.816  2019-06-02 00:00:00  18:07:00   \n",
       "2       25.51         4   5.102  107.142  2019-09-03 00:00:00  17:03:00   \n",
       "3       93.72         6  28.116  590.436            1/15/2019  16:19:00   \n",
       "4       40.30         2   4.030   84.630  2019-11-03 00:00:00  15:30:00   \n",
       "\n",
       "       payment    cogs  gross_margin_percentage  gross_income  rating  \n",
       "0  Credit card  164.52                 4.761905         8.226     5.9  \n",
       "1      Ewallet   57.92                 4.761905         2.896     4.5  \n",
       "2         Cash  102.04                 4.761905         5.102     6.8  \n",
       "3         Cash  562.32                 4.761905        28.116     4.5  \n",
       "4      Ewallet   80.60                 4.761905         4.030     4.4  "
      ]
     },
     "execution_count": 3,
     "metadata": {},
     "output_type": "execute_result"
    }
   ],
   "source": [
    "# fix column names\n",
    "df_sales.columns = [col.lower() for col in df_sales.columns if len(col.split(\" \")) >= 1]\n",
    "df_sales.columns = [col.replace(\" \", \"_\") for col in df_sales.columns if len(col.split(\" \")) >= 1]\n",
    "df_sales.head()"
   ]
  },
  {
   "cell_type": "code",
   "execution_count": 4,
   "id": "07a88578",
   "metadata": {},
   "outputs": [
    {
     "name": "stdout",
     "output_type": "stream",
     "text": [
      "Column Names:\n",
      "Index(['invoice_id', 'branch', 'city', 'customer_type', 'gender',\n",
      "       'product_line', 'unit_price', 'quantity', 'tax_5%', 'total', 'date',\n",
      "       'time', 'payment', 'cogs', 'gross_margin_percentage', 'gross_income',\n",
      "       'rating'],\n",
      "      dtype='object')\n"
     ]
    }
   ],
   "source": [
    "col_names = df_sales.columns\n",
    "print(f\"Column Names:\\n{col_names}\")"
   ]
  },
  {
   "cell_type": "code",
   "execution_count": 5,
   "id": "aaa684e2",
   "metadata": {},
   "outputs": [
    {
     "data": {
      "text/plain": [
       "['Col of invoice_id - dtype is: object',\n",
       " 'Col of branch - dtype is: object',\n",
       " 'Col of city - dtype is: object',\n",
       " 'Col of customer_type - dtype is: object',\n",
       " 'Col of gender - dtype is: object',\n",
       " 'Col of product_line - dtype is: object',\n",
       " 'Col of unit_price - dtype is: float64',\n",
       " 'Col of quantity - dtype is: int64',\n",
       " 'Col of tax_5% - dtype is: float64',\n",
       " 'Col of total - dtype is: float64',\n",
       " 'Col of date - dtype is: object',\n",
       " 'Col of time - dtype is: object',\n",
       " 'Col of payment - dtype is: object',\n",
       " 'Col of cogs - dtype is: float64',\n",
       " 'Col of gross_margin_percentage - dtype is: float64',\n",
       " 'Col of gross_income - dtype is: float64',\n",
       " 'Col of rating - dtype is: float64']"
      ]
     },
     "execution_count": 5,
     "metadata": {},
     "output_type": "execute_result"
    }
   ],
   "source": [
    "\"\"\"\n",
    "for col in df_sales.columns:\n",
    "    print(f\"Col of {col} - dtype is: {df_sales[col].dtype}\")\n",
    "\"\"\"\n",
    "\n",
    "# use list comp    \n",
    "[f\"Col of {col} - dtype is: {df_sales[col].dtype}\" for col in df_sales.columns]"
   ]
  },
  {
   "cell_type": "code",
   "execution_count": null,
   "id": "fc4235f9",
   "metadata": {},
   "outputs": [
    {
     "name": "stdout",
     "output_type": "stream",
     "text": [
      "['invoice_id', 'branch', 'city', 'customer_type', 'gender', 'product_line', 'date', 'time', 'payment']\n",
      "    invoice_id branch      city customer_type  gender            product_line  \\\n",
      "0  692-92-5582      B  Mandalay        Member  Female      Food_and_beverages   \n",
      "1  351-62-0822      B  Mandalay        Member  Female     Fashion_accessories   \n",
      "2  529-56-3974      B  Mandalay        Member    Male  Electronic_accessories   \n",
      "3  299-46-1805      B  Mandalay        Member  Female       Sports_and_travel   \n",
      "4  319-50-3348      B  Mandalay        Normal  Female      Home_and_lifestyle   \n",
      "\n",
      "   unit_price  quantity  tax_5%    total                 date      time  \\\n",
      "0       54.84         3   8.226  172.746            2/20/2019  13:27:00   \n",
      "1       14.48         4   2.896   60.816  2019-06-02 00:00:00  18:07:00   \n",
      "2       25.51         4   5.102  107.142  2019-09-03 00:00:00  17:03:00   \n",
      "3       93.72         6  28.116  590.436            1/15/2019  16:19:00   \n",
      "4       40.30         2   4.030   84.630  2019-11-03 00:00:00  15:30:00   \n",
      "\n",
      "       payment    cogs  gross_margin_percentage  gross_income  rating  \n",
      "0  Credit card  164.52                 4.761905         8.226     5.9  \n",
      "1      Ewallet   57.92                 4.761905         2.896     4.5  \n",
      "2         Cash  102.04                 4.761905         5.102     6.8  \n",
      "3         Cash  562.32                 4.761905        28.116     4.5  \n",
      "4      Ewallet   80.60                 4.761905         4.030     4.4  \n",
      "city\n",
      "Yangon       340\n",
      "Mandalay     332\n",
      "Naypyitaw    328\n",
      "Name: count, dtype: int64\n",
      "3\n"
     ]
    }
   ],
   "source": [
    "cat_cols = [col for col in df_sales.columns if df_sales[col].dtype in [\"object\"]]\n",
    "print(cat_cols)\n",
    "print(df_sales.head())\n",
    "\n",
    "# if you want to convert date column\n",
    "# drop the invoice_id column\n",
    "\n"
   ]
  },
  {
   "cell_type": "code",
   "execution_count": null,
   "id": "4e69f20c",
   "metadata": {},
   "outputs": [],
   "source": [
    "# if you want to change the data type of the date column\n",
    "# df_sales['date'] = pd.to_datetime(df_sales)\n",
    "\n",
    "\n",
    "def standardize_date_column(df, date_col='date', output_format='YYYY-MM-DD'):\n",
    "    \"\"\"\n",
    "    Convert date column to a consistent format.\n",
    "    \n",
    "    Parameters:\n",
    "    - df: pandas DataFrame with the date column\n",
    "    - date_col: str, name of the date column\n",
    "    - output_format: str, desired output format (e.g., 'YYYY-MM-DD')\n",
    "    \n",
    "    Returns:\n",
    "    - df: DataFrame with standardized date column\n",
    "    \"\"\"\n",
    "    if date_col not in df.columns:\n",
    "        raise ValueError(f\"Column '{date_col}' not found in DataFrame\")\n",
    "    \n",
    "    # Create a copy of the DataFrame\n",
    "    df = df.copy()\n",
    "    \n",
    "    # Convert date column to datetime, handling mixed formats\n",
    "    df[date_col] = pd.to_datetime(df[date_col], infer_datetime_format=True, errors='coerce')\n",
    "    \n",
    "    # Check for any parsing errors\n",
    "    if df[date_col].isna().any():\n",
    "        print(\"Warning: Some dates could not be parsed and are set to NaT.\")\n",
    "    \n",
    "    # Format as string in desired format (e.g., YYYY-MM-DD)\n",
    "    if output_format:\n",
    "        df[date_col] = df[date_col].dt.strftime(\n",
    "            output_format.replace('YYYY', '%Y').replace('MM', '%m').replace('DD', '%d')\n",
    "        )\n",
    "\n",
    "# use standardize_date_column\n",
    "standardize_date_column(df_sales, date_col = \"date\")\n",
    "df_sales.head()"
   ]
  },
  {
   "cell_type": "code",
   "execution_count": null,
   "id": "7af2dbd7",
   "metadata": {},
   "outputs": [
    {
     "data": {
      "image/png": "[encoded data removed]",
      "text/plain": [
       "<Figure size 800x400 with 1 Axes>"
      ]
     },
     "metadata": {},
     "output_type": "display_data"
    }
   ],
   "source": [
    "# Countplot\n",
    "# vertical bar\n",
    "plt.figure(figsize= (8, 4))\n",
    "sns.countplot(x = 'city', data = df_sales, color = \"darkgray\")\n",
    "plt.title(\"Vertical Countplot of City Column\")\n",
    "plt.tight_layout()\n",
    "plt.show()"
   ]
  },
  {
   "cell_type": "code",
   "execution_count": 22,
   "id": "8ed9fc2e",
   "metadata": {},
   "outputs": [
    {
     "data": {
      "image/png": "[encoded data removed]",
      "text/plain": [
       "<Figure size 1000x600 with 1 Axes>"
      ]
     },
     "metadata": {},
     "output_type": "display_data"
    }
   ],
   "source": [
    "plt.figure(figsize= (10, 6))\n",
    "sns.countplot(y = 'city', data = df_sales, color = \"magenta\")\n",
    "plt.title(\"Horizontal Countplot of City Column\")\n",
    "plt.tight_layout()\n",
    "plt.show()"
   ]
  },
  {
   "cell_type": "code",
   "execution_count": 27,
   "id": "86a3382b",
   "metadata": {},
   "outputs": [
    {
     "data": {
      "image/png": "[encoded data removed]",
      "text/plain": [
       "<Figure size 800x600 with 1 Axes>"
      ]
     },
     "metadata": {},
     "output_type": "display_data"
    }
   ],
   "source": [
    "# Add hue to get count on two categories\n",
    "plt.figure(figsize=(8,6))\n",
    "plt.title(\"City Count By Gender\")\n",
    "sns.countplot(x = \"city\", hue = \"gender\", data = df_sales, palette=\"Pastel2_r\")\n",
    "plt.tight_layout()\n",
    "plt.show()"
   ]
  },
  {
   "cell_type": "code",
   "execution_count": 28,
   "id": "9533db36",
   "metadata": {},
   "outputs": [
    {
     "name": "stdout",
     "output_type": "stream",
     "text": [
      "payment\n",
      "Ewallet        345\n",
      "Cash           344\n",
      "Credit card    311\n",
      "Name: count, dtype: int64\n",
      "Number of unique: 3\n"
     ]
    }
   ],
   "source": [
    "print(df_sales[\"payment\"].value_counts())\n",
    "print(\"Number of unique:\",df_sales[\"payment\"].nunique())"
   ]
  },
  {
   "cell_type": "code",
   "execution_count": 36,
   "id": "f721c5db",
   "metadata": {},
   "outputs": [
    {
     "data": {
      "image/png": "[encoded data removed]",
      "text/plain": [
       "<Figure size 1000x600 with 1 Axes>"
      ]
     },
     "metadata": {},
     "output_type": "display_data"
    }
   ],
   "source": [
    "plt.figure(figsize = (10,6))\n",
    "plt.title(\"Payment\")\n",
    "sns.countplot(x = \"payment\", data = df_sales, facecolor = (1, 0, 1, 0),\n",
    "              linewidth = 5,\n",
    "              edgecolor = sns.color_palette('bright',5))\n",
    "plt.tight_layout()\n",
    "plt.show()"
   ]
  },
  {
   "cell_type": "code",
   "execution_count": null,
   "id": "7cda6394",
   "metadata": {},
   "outputs": [],
   "source": []
  }
 ],
 "metadata": {
  "kernelspec": {
   "display_name": "base",
   "language": "python",
   "name": "python3"
  },
  "language_info": {
   "codemirror_mode": {
    "name": "ipython",
    "version": 3
   },
   "file_extension": ".py",
   "mimetype": "text/x-python",
   "name": "python",
   "nbconvert_exporter": "python",
   "pygments_lexer": "ipython3",
   "version": "3.11.7"
  }
 },
 "nbformat": 4,
 "nbformat_minor": 5
}
