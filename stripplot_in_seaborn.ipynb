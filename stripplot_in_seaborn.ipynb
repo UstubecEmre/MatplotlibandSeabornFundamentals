{
 "cells": [
  {
   "cell_type": "markdown",
   "id": "b6596f4c",
   "metadata": {},
   "source": [
    "# 1. 🎯 What is a Strip Plot?\n",
    "A Strip Plot is a type of scatter plot that shows individual data points along a categorical axis.\n",
    "\n",
    "It’s used to:\n",
    "\n",
    "Visualize each value (unlike boxplots or violinplots, which summarize)\n",
    "\n",
    "Show distribution and spread of data across categories\n",
    "\n",
    "\n",
    "# 2. Why Use Strip Plot?\n",
    "\n",
    "<table>\n",
    "    <tr>\n",
    "        <th>Feature</th>\n",
    "        <th>Strip Plot</th>\n",
    "    </tr>\n",
    "    <tr>\n",
    "        <td>Shows</td>\n",
    "        <td>Each individual data point</td>\n",
    "    </tr>\n",
    "    <tr>\n",
    "        <td>Type</td>\n",
    "        <td>Scatter plot for categorical data</td>\n",
    "    </tr>\n",
    "    <tr>\n",
    "        <td>Good for</td>\n",
    "        <td>Small datasets, raw data visibility</td>\n",
    "    </tr>\n",
    "     <tr>\n",
    "        <td>Often used with</td>\n",
    "        <td>boxplot, violinplot for context</td>\n",
    "    </tr>\n",
    "\n",
    "</table>\n",
    "\n",
    "### 2.1. Jitter Parameter\n",
    "\n",
    "What is jitter=True?\n",
    "\n",
    "It spreads the points horizontally so they don't all overlap on top of each other. \n",
    "\n",
    "It makes the plot easier to read."
   ]
  },
  {
   "cell_type": "markdown",
   "id": "d5ede18d",
   "metadata": {},
   "source": []
  }
 ],
 "metadata": {
  "language_info": {
   "name": "python"
  }
 },
 "nbformat": 4,
 "nbformat_minor": 5
}
