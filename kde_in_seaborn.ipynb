{
 "cells": [
  {
   "cell_type": "markdown",
   "id": "bdd8e93b",
   "metadata": {},
   "source": [
    "# 1. What is a Kernel Density Estimation (KDE) Plot?\n",
    "A KDE plot is a smooth, continuous curve that estimates the probability density of a numeric variable.\n",
    "\n",
    "It’s essentially a smoothed version of a histogram — instead of showing bars for each bin like a histogram, it draws a smooth line that tries to capture the underlying shape of the data.\n",
    "\n",
    "# 2. Why Do We Use KDE Plots?\n",
    "\n",
    "<table>\n",
    "    <tr>\n",
    "        <th>Reason</th>\n",
    "        <th>Explanation</th>\n",
    "    </tr>\n",
    "    <tr>\n",
    "        <td>See the shape of a distribution</td>\n",
    "        <td>Gives a smooth, readable view of how your data is spread out</td>\n",
    "    </tr>\n",
    "    <tr>\n",
    "        <td>Compare multiple distributions</td>\n",
    "        <td>\tEasily compare the shapes of different groups with overlapping curves</td>\n",
    "    </tr>\n",
    "    <tr>\n",
    "        <td>Alternative to histograms</td>\n",
    "        <td>KDE plots are not sensitive to bin sizes like histograms</td>\n",
    "    </tr>\n",
    "    <tr>\n",
    "        <td>Smoothed visualization</td>\n",
    "        <td>Reduces the \"noise\" and gives a better sense of trends in the data</td>\n",
    "    </tr>\n",
    "    <tr>\n",
    "        <td>Useful in statistics & modeling</td>\n",
    "        <td>Helps assess normality, skewness, multimodality, etc.</td>\n",
    "    </tr>\n",
    "</table>\n",
    "\n",
    "\n",
    "# 3. Tips\n",
    "📌 Tip:\n",
    "\n",
    "KDE plots assume continuous numeric data.\n",
    "\n",
    "If your data is categorical or too sparse, KDE may give misleading results."
   ]
  },
  {
   "cell_type": "markdown",
   "id": "656995c4",
   "metadata": {},
   "source": [
    "# "
   ]
  }
 ],
 "metadata": {
  "language_info": {
   "name": "python"
  }
 },
 "nbformat": 4,
 "nbformat_minor": 5
}
