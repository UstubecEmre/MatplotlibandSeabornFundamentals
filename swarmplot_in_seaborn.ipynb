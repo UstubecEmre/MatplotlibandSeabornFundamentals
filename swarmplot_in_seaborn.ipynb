{
 "cells": [
  {
   "cell_type": "markdown",
   "id": "8aab0170",
   "metadata": {},
   "source": [
    "# 1. 🐝 1. What is a Swarm Plot?\n",
    "A swarm plot is a type of categorical scatter plot in Seaborn (like a stripplot), but it avoids overlapping points by smartly arranging them.\n",
    "\n",
    "📊 Think of it as a smarter version of stripplot that stacks points side-by-side without overlaps.\n",
    "\n",
    "## 1.1. Key Features:\n",
    "Shows individual data points\n",
    "\n",
    "Groups them by category\n",
    "\n",
    "Automatically adjusts spacing so no dots overlap\n",
    "\n",
    "\n",
    "# 2. Why Do We Use Swarm Plots?\n",
    "<table>\n",
    "    <tr>\n",
    "        <th>Reason</th>\n",
    "        <th>Explanation</th>\n",
    "    </tr>\n",
    "    <tr>\n",
    "        <td>The show all data points</td>\n",
    "        <td>Every individual value is vissible</td>\n",
    "    </tr>\n",
    "    <tr>\n",
    "        <td>No overlapping dots</td>\n",
    "        <td>Makes the plot cleaner than stripplot</td>\n",
    "    </tr>\n",
    "    <tr>\n",
    "        <td>Compare distributions</td>\n",
    "        <td>See how values are spread across categories</td>\n",
    "    </tr>\n",
    "    <tr>\n",
    "        <td>Small to medium datasets</td>\n",
    "        <td>Best when you don't have thousands of points</td>\n",
    "    </tr>\n",
    "    <tr>\n",
    "        <td>Pair with box / violin plots</td>\n",
    "        <td>Use together to show summary + raw values</td>\n",
    "    </tr>\n",
    "    \n",
    "</table>\n",
    "\n",
    "\n",
    "# 3. Strip Plot vs Swarm Plot\n",
    "\n",
    "<table>\n",
    "    <tr>\n",
    "        <th>Strip Plot</th>\n",
    "        <th>Swarm Plot</th>\n",
    "    </tr>\n",
    "    <tr>\n",
    "        <td>Allows overlapping dots</td>\n",
    "        <td>Avoids overlaps, tidier look</td>\n",
    "    </tr>\n",
    "    <tr>\n",
    "        <td>Faster for large datasets</td>\n",
    "        <td>Cleaner, but slower for many points</td>\n",
    "    </tr>\n",
    "\n",
    "</table>"
   ]
  },
  {
   "cell_type": "code",
   "execution_count": null,
   "id": "0cc90738",
   "metadata": {
    "vscode": {
     "languageId": "plaintext"
    }
   },
   "outputs": [],
   "source": []
  }
 ],
 "metadata": {
  "language_info": {
   "name": "python"
  }
 },
 "nbformat": 4,
 "nbformat_minor": 5
}
