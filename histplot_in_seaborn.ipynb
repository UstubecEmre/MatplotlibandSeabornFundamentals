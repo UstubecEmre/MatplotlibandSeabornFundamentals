{
 "cells": [
  {
   "cell_type": "markdown",
   "id": "0e39aa7d",
   "metadata": {},
   "source": [
    "# 1. What Is histplot?\n",
    "In Seaborn, a hist plot (short for histogram plot) is a type of plot that shows the distribution of a numeric variable by dividing it into intervals (bins) and counting how many data points fall into each interval.\n",
    "\n",
    "\n",
    "\n",
    "# 2. Why Do We Use It?\n",
    "<table>\n",
    "    <tr>\n",
    "        <th>Reason</th>\n",
    "        <th>Explanation</th>\n",
    "    </tr>\n",
    "    <tr>\n",
    "        <td>Understand data distribution</td>\n",
    "        <td>Shows how values of a variable are spread (e.g., normal, skewed, bimodal).</td>\n",
    "    </tr>\n",
    "     <tr>\n",
    "        <td>Detect outliers</td>\n",
    "        <td>Helps spot extreme values far from the rest</td>\n",
    "    </tr> \n",
    "    <tr>\n",
    "        <td>Group data into bins</td>\n",
    "        <td>Summarizes large sets of numbers into understandable chunks</td>\n",
    "    </tr> \n",
    "    <tr>\n",
    "        <td> Check for skewness or symmetry</td>\n",
    "        <td>It includes density — which a boxplot alone doesn't show.</td>\n",
    "    </tr>\n",
    "    <tr>\n",
    "        <td>Helps decide on transformations or models later</td>\n",
    "        <td>Use hue to compare multiple groups on the same axis</td>\n",
    "    </tr>\n",
    "</table>\n"
   ]
  },
  {
   "cell_type": "markdown",
   "id": "0cbf9f25",
   "metadata": {},
   "source": [
    "# import libraries\n"
   ]
  }
 ],
 "metadata": {
  "language_info": {
   "name": "python"
  }
 },
 "nbformat": 4,
 "nbformat_minor": 5
}
