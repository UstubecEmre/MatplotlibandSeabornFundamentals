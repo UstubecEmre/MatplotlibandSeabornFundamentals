{
 "cells": [
  {
   "cell_type": "markdown",
   "id": "67e83470",
   "metadata": {},
   "source": [
    "# 1.What is a Heatmap in Seaborn?\n",
    "A heatmap is a graphical representation of data where values are represented using color intensity. \n",
    "\n",
    "In Seaborn, it’s typically used to visualize 2D data like matrices or correlation tables.\n",
    "\n",
    "# 2. Why Do We Use It?\n",
    "\n",
    "### 2.1. Visualizing Correlations\n",
    "One of the most common uses is for displaying the correlation matrix of a DataFrame:\n",
    "\n",
    "> Code Example <br>\n",
    "\n",
    "<b> corr = df.corr()</b>\n",
    "\n",
    "<b> sns.heatmap(corr, annot=True, cmap='coolwarm') </b>\n",
    "\n",
    "\n",
    "<br>This quickly shows how strongly variables relate to each other (from -1 to +1), which is essential in:\n",
    "\n",
    "o Feature selection\n",
    "\n",
    "o Multicollinearity detection\n",
    "\n",
    "o Model interpretation\n",
    "\n",
    "<br>\n",
    "\n",
    "### 2.2 Spotting Patterns in Matrices\n",
    "\n",
    "Heatmaps are also used to visualize:\n",
    "\n",
    "o Confusion matrices\n",
    "\n",
    "o Pivot tables (e.g. sales by region and month)\n",
    "\n",
    "o Missing data \n",
    "\n",
    "> Code Example<br>\n",
    "\n",
    "<b> sns.heatmap(df.isnull()) </b>\n",
    "\n",
    "<br>\n",
    "\n",
    "### 2.3. Enhancing Insight with Colors\n",
    "\n",
    "The use of color intensifies perception.\n",
    " \n",
    "Darker or brighter colors naturally draw attention, so patterns, outliers, or trends become more obvious compared to a numerical table.\n",
    "<br>\n",
    "\n",
    "# 3. Is It Important?\n",
    "There is no doubt :)\n",
    "\n",
    "<table>\n",
    "    <tr>\n",
    "        <th>Purpose</th>\n",
    "        <th>Explanation</th>\n",
    "    </tr>\n",
    "    <tr>\n",
    "        <td>Data Understanding</td>\n",
    "        <td>See which features are strongly correlated</td>\n",
    "    </tr>\n",
    "    <tr>\n",
    "        <td>Model development</td>\n",
    "        <td>Avoid multicollinearity</td>\n",
    "    </tr>\n",
    "    <tr>\n",
    "        <td>Report creation</td>\n",
    "        <td>Show high-level patterns clearly</td>\n",
    "    </tr>\n",
    "    <tr>\n",
    "        <td>Missing value analysis</td>\n",
    "        <td>Visualize where data is missing</td>\n",
    "    </tr>\n",
    "</table>"
   ]
  },
  {
   "cell_type": "code",
   "execution_count": 1,
   "id": "118ae811",
   "metadata": {},
   "outputs": [],
   "source": [
    "# import libraries\n",
    "import pandas as pd\n",
    "import matplotlib.pyplot as plt\n",
    "import seaborn as sns\n"
   ]
  },
  {
   "cell_type": "code",
   "execution_count": 2,
   "id": "da9ef87f",
   "metadata": {},
   "outputs": [
    {
     "data": {
      "application/vnd.microsoft.datawrangler.viewer.v0+json": {
       "columns": [
        {
         "name": "index",
         "rawType": "int64",
         "type": "integer"
        },
        {
         "name": "Item_ID",
         "rawType": "object",
         "type": "string"
        },
        {
         "name": "Item_W",
         "rawType": "float64",
         "type": "float"
        },
        {
         "name": "Item_Type",
         "rawType": "object",
         "type": "string"
        },
        {
         "name": "Item_MRP",
         "rawType": "float64",
         "type": "float"
        },
        {
         "name": "Outlet_ID",
         "rawType": "object",
         "type": "string"
        },
        {
         "name": "Outlet_Year",
         "rawType": "int64",
         "type": "integer"
        },
        {
         "name": "Outlet_Size",
         "rawType": "object",
         "type": "string"
        },
        {
         "name": "Outlet_Location_Type",
         "rawType": "object",
         "type": "string"
        },
        {
         "name": "Sales",
         "rawType": "float64",
         "type": "float"
        },
        {
         "name": "Tier",
         "rawType": "int64",
         "type": "integer"
        }
       ],
       "ref": "ef817445-c235-4b5e-8746-ef1fd40806a2",
       "rows": [
        [
         "0",
         "FDN27",
         "9.437510323",
         "Snack Foods",
         "195.3132437",
         "OUT046",
         "1997",
         "Small",
         "Tier 1",
         "897.0855615",
         "1"
        ],
        [
         "1",
         "FDW35",
         "9.033762237000001",
         "Fruits and Vegetables",
         "36.37144892",
         "OUT035",
         "2003",
         "Small",
         "Tier 2",
         "1639.303513",
         "2"
        ],
        [
         "2",
         "FDS28",
         "20.88484944",
         "Frozen Foods",
         "70.31816664",
         "OUT013",
         "2008",
         "Small",
         "Tier 1",
         "2664.773737",
         "1"
        ],
        [
         "3",
         "FDC09",
         "19.97629965",
         "Snack Foods",
         "121.7232643",
         "OUT018",
         "2009",
         "Medium",
         "Tier 3",
         "440.8595925",
         "3"
        ],
        [
         "4",
         "FDX04",
         "10.82481245",
         "Snack Foods",
         "264.6733019",
         "OUT035",
         "2004",
         "Small",
         "Tier 1",
         "29.80709824",
         "1"
        ]
       ],
       "shape": {
        "columns": 10,
        "rows": 5
       }
      },
      "text/html": [
       "<div>\n",
       "<style scoped>\n",
       "    .dataframe tbody tr th:only-of-type {\n",
       "        vertical-align: middle;\n",
       "    }\n",
       "\n",
       "    .dataframe tbody tr th {\n",
       "        vertical-align: top;\n",
       "    }\n",
       "\n",
       "    .dataframe thead th {\n",
       "        text-align: right;\n",
       "    }\n",
       "</style>\n",
       "<table border=\"1\" class=\"dataframe\">\n",
       "  <thead>\n",
       "    <tr style=\"text-align: right;\">\n",
       "      <th></th>\n",
       "      <th>Item_ID</th>\n",
       "      <th>Item_W</th>\n",
       "      <th>Item_Type</th>\n",
       "      <th>Item_MRP</th>\n",
       "      <th>Outlet_ID</th>\n",
       "      <th>Outlet_Year</th>\n",
       "      <th>Outlet_Size</th>\n",
       "      <th>Outlet_Location_Type</th>\n",
       "      <th>Sales</th>\n",
       "      <th>Tier</th>\n",
       "    </tr>\n",
       "  </thead>\n",
       "  <tbody>\n",
       "    <tr>\n",
       "      <th>0</th>\n",
       "      <td>FDN27</td>\n",
       "      <td>9.437510</td>\n",
       "      <td>Snack Foods</td>\n",
       "      <td>195.313244</td>\n",
       "      <td>OUT046</td>\n",
       "      <td>1997</td>\n",
       "      <td>Small</td>\n",
       "      <td>Tier 1</td>\n",
       "      <td>897.085562</td>\n",
       "      <td>1</td>\n",
       "    </tr>\n",
       "    <tr>\n",
       "      <th>1</th>\n",
       "      <td>FDW35</td>\n",
       "      <td>9.033762</td>\n",
       "      <td>Fruits and Vegetables</td>\n",
       "      <td>36.371449</td>\n",
       "      <td>OUT035</td>\n",
       "      <td>2003</td>\n",
       "      <td>Small</td>\n",
       "      <td>Tier 2</td>\n",
       "      <td>1639.303513</td>\n",
       "      <td>2</td>\n",
       "    </tr>\n",
       "    <tr>\n",
       "      <th>2</th>\n",
       "      <td>FDS28</td>\n",
       "      <td>20.884849</td>\n",
       "      <td>Frozen Foods</td>\n",
       "      <td>70.318167</td>\n",
       "      <td>OUT013</td>\n",
       "      <td>2008</td>\n",
       "      <td>Small</td>\n",
       "      <td>Tier 1</td>\n",
       "      <td>2664.773737</td>\n",
       "      <td>1</td>\n",
       "    </tr>\n",
       "    <tr>\n",
       "      <th>3</th>\n",
       "      <td>FDC09</td>\n",
       "      <td>19.976300</td>\n",
       "      <td>Snack Foods</td>\n",
       "      <td>121.723264</td>\n",
       "      <td>OUT018</td>\n",
       "      <td>2009</td>\n",
       "      <td>Medium</td>\n",
       "      <td>Tier 3</td>\n",
       "      <td>440.859593</td>\n",
       "      <td>3</td>\n",
       "    </tr>\n",
       "    <tr>\n",
       "      <th>4</th>\n",
       "      <td>FDX04</td>\n",
       "      <td>10.824812</td>\n",
       "      <td>Snack Foods</td>\n",
       "      <td>264.673302</td>\n",
       "      <td>OUT035</td>\n",
       "      <td>2004</td>\n",
       "      <td>Small</td>\n",
       "      <td>Tier 1</td>\n",
       "      <td>29.807098</td>\n",
       "      <td>1</td>\n",
       "    </tr>\n",
       "  </tbody>\n",
       "</table>\n",
       "</div>"
      ],
      "text/plain": [
       "  Item_ID     Item_W              Item_Type    Item_MRP Outlet_ID  \\\n",
       "0   FDN27   9.437510            Snack Foods  195.313244    OUT046   \n",
       "1   FDW35   9.033762  Fruits and Vegetables   36.371449    OUT035   \n",
       "2   FDS28  20.884849           Frozen Foods   70.318167    OUT013   \n",
       "3   FDC09  19.976300            Snack Foods  121.723264    OUT018   \n",
       "4   FDX04  10.824812            Snack Foods  264.673302    OUT035   \n",
       "\n",
       "   Outlet_Year Outlet_Size Outlet_Location_Type        Sales  Tier  \n",
       "0         1997       Small               Tier 1   897.085562     1  \n",
       "1         2003       Small               Tier 2  1639.303513     2  \n",
       "2         2008       Small               Tier 1  2664.773737     1  \n",
       "3         2009      Medium               Tier 3   440.859593     3  \n",
       "4         2004       Small               Tier 1    29.807098     1  "
      ]
     },
     "execution_count": 2,
     "metadata": {},
     "output_type": "execute_result"
    }
   ],
   "source": [
    "# load dataset\n",
    "file_path = r\"D:\\DataVisualizationForPython\\datasets\\orders.xlsx\"\n",
    "\n",
    "file = pd.read_excel(file_path)\n",
    "\n",
    "if file is None:\n",
    "    raise FileNotFoundError(\"File Path Not Found. Please, Check Your File Path\")\n",
    "\n",
    "df = pd.DataFrame(file)\n",
    "df.head()"
   ]
  },
  {
   "cell_type": "code",
   "execution_count": 3,
   "id": "69327d75",
   "metadata": {},
   "outputs": [
    {
     "data": {
      "text/plain": [
       "Index(['item_id', 'item_w', 'item_type', 'item_mrp', 'outlet_id',\n",
       "       'outlet_year', 'outlet_size', 'outlet_location_type', 'sales', 'tier'],\n",
       "      dtype='object')"
      ]
     },
     "execution_count": 3,
     "metadata": {},
     "output_type": "execute_result"
    }
   ],
   "source": [
    "# convert to lower case all columns\n",
    "df.columns = df.columns.str.lower()\n",
    "df.columns"
   ]
  },
  {
   "cell_type": "code",
   "execution_count": 6,
   "id": "6dc47fcb",
   "metadata": {},
   "outputs": [
    {
     "data": {
      "application/vnd.microsoft.datawrangler.viewer.v0+json": {
       "columns": [
        {
         "name": "outlet_year",
         "rawType": "int64",
         "type": "integer"
        },
        {
         "name": "1",
         "rawType": "float64",
         "type": "float"
        },
        {
         "name": "2",
         "rawType": "float64",
         "type": "float"
        },
        {
         "name": "3",
         "rawType": "float64",
         "type": "float"
        }
       ],
       "ref": "c4c288aa-4e5b-42c7-b497-bb49e27d8145",
       "rows": [
        [
         "1987",
         null,
         "2563.5566245",
         "1439.3661247666666"
        ],
        [
         "1988",
         null,
         "857.7862198999998",
         "3651.266895"
        ],
        [
         "1996",
         "1667.3773740000001",
         null,
         null
        ],
        [
         "1997",
         "1938.51206475",
         "1765.128145375",
         "1556.877108"
        ],
        [
         "1998",
         "1935.5118309",
         "618.0276743",
         null
        ],
        [
         "1999",
         "3035.712633",
         "3977.928645",
         null
        ],
        [
         "2003",
         null,
         "1639.303513",
         null
        ],
        [
         "2004",
         "1297.3360752133333",
         "1428.5024730333334",
         "2052.7935905"
        ],
        [
         "2008",
         "2664.773737",
         "2749.3870429999997",
         "819.3144944000001"
        ],
        [
         "2009",
         "1098.59518",
         "262.4890186",
         "1883.2427673333336"
        ]
       ],
       "shape": {
        "columns": 3,
        "rows": 10
       }
      },
      "text/html": [
       "<div>\n",
       "<style scoped>\n",
       "    .dataframe tbody tr th:only-of-type {\n",
       "        vertical-align: middle;\n",
       "    }\n",
       "\n",
       "    .dataframe tbody tr th {\n",
       "        vertical-align: top;\n",
       "    }\n",
       "\n",
       "    .dataframe thead th {\n",
       "        text-align: right;\n",
       "    }\n",
       "</style>\n",
       "<table border=\"1\" class=\"dataframe\">\n",
       "  <thead>\n",
       "    <tr style=\"text-align: right;\">\n",
       "      <th>tier</th>\n",
       "      <th>1</th>\n",
       "      <th>2</th>\n",
       "      <th>3</th>\n",
       "    </tr>\n",
       "    <tr>\n",
       "      <th>outlet_year</th>\n",
       "      <th></th>\n",
       "      <th></th>\n",
       "      <th></th>\n",
       "    </tr>\n",
       "  </thead>\n",
       "  <tbody>\n",
       "    <tr>\n",
       "      <th>1987</th>\n",
       "      <td>NaN</td>\n",
       "      <td>2563.556624</td>\n",
       "      <td>1439.366125</td>\n",
       "    </tr>\n",
       "    <tr>\n",
       "      <th>1988</th>\n",
       "      <td>NaN</td>\n",
       "      <td>857.786220</td>\n",
       "      <td>3651.266895</td>\n",
       "    </tr>\n",
       "    <tr>\n",
       "      <th>1996</th>\n",
       "      <td>1667.377374</td>\n",
       "      <td>NaN</td>\n",
       "      <td>NaN</td>\n",
       "    </tr>\n",
       "    <tr>\n",
       "      <th>1997</th>\n",
       "      <td>1938.512065</td>\n",
       "      <td>1765.128145</td>\n",
       "      <td>1556.877108</td>\n",
       "    </tr>\n",
       "    <tr>\n",
       "      <th>1998</th>\n",
       "      <td>1935.511831</td>\n",
       "      <td>618.027674</td>\n",
       "      <td>NaN</td>\n",
       "    </tr>\n",
       "    <tr>\n",
       "      <th>1999</th>\n",
       "      <td>3035.712633</td>\n",
       "      <td>3977.928645</td>\n",
       "      <td>NaN</td>\n",
       "    </tr>\n",
       "    <tr>\n",
       "      <th>2003</th>\n",
       "      <td>NaN</td>\n",
       "      <td>1639.303513</td>\n",
       "      <td>NaN</td>\n",
       "    </tr>\n",
       "    <tr>\n",
       "      <th>2004</th>\n",
       "      <td>1297.336075</td>\n",
       "      <td>1428.502473</td>\n",
       "      <td>2052.793590</td>\n",
       "    </tr>\n",
       "    <tr>\n",
       "      <th>2008</th>\n",
       "      <td>2664.773737</td>\n",
       "      <td>2749.387043</td>\n",
       "      <td>819.314494</td>\n",
       "    </tr>\n",
       "    <tr>\n",
       "      <th>2009</th>\n",
       "      <td>1098.595180</td>\n",
       "      <td>262.489019</td>\n",
       "      <td>1883.242767</td>\n",
       "    </tr>\n",
       "  </tbody>\n",
       "</table>\n",
       "</div>"
      ],
      "text/plain": [
       "tier                   1            2            3\n",
       "outlet_year                                       \n",
       "1987                 NaN  2563.556624  1439.366125\n",
       "1988                 NaN   857.786220  3651.266895\n",
       "1996         1667.377374          NaN          NaN\n",
       "1997         1938.512065  1765.128145  1556.877108\n",
       "1998         1935.511831   618.027674          NaN\n",
       "1999         3035.712633  3977.928645          NaN\n",
       "2003                 NaN  1639.303513          NaN\n",
       "2004         1297.336075  1428.502473  2052.793590\n",
       "2008         2664.773737  2749.387043   819.314494\n",
       "2009         1098.595180   262.489019  1883.242767"
      ]
     },
     "execution_count": 6,
     "metadata": {},
     "output_type": "execute_result"
    },
    {
     "data": {
      "text/plain": [
       "<Figure size 1200x800 with 0 Axes>"
      ]
     },
     "metadata": {},
     "output_type": "display_data"
    }
   ],
   "source": [
    "# pivot table\n",
    "plt.figure(figsize = (12, 8))\n",
    "df_pivot = df.pivot_table(index = \"outlet_year\", columns=\"tier\", values=\"sales\")\n",
    "df_pivot"
   ]
  },
  {
   "cell_type": "code",
   "execution_count": 19,
   "id": "6a3de37d",
   "metadata": {},
   "outputs": [
    {
     "name": "stdout",
     "output_type": "stream",
     "text": [
      "item_id                 0\n",
      "item_w                  0\n",
      "item_type               0\n",
      "item_mrp                0\n",
      "outlet_id               0\n",
      "outlet_year             0\n",
      "outlet_size             0\n",
      "outlet_location_type    0\n",
      "sales                   0\n",
      "tier                    0\n",
      "dtype: int64\n",
      "There are no missing values in the dataset\n"
     ]
    }
   ],
   "source": [
    "# are there any missing values\n",
    "print(df.isnull().sum())\n",
    "print(\"There are no missing values in the dataset\")\n"
   ]
  },
  {
   "cell_type": "code",
   "execution_count": 20,
   "id": "c4908893",
   "metadata": {},
   "outputs": [
    {
     "data": {
      "application/vnd.microsoft.datawrangler.viewer.v0+json": {
       "columns": [
        {
         "name": "tier",
         "rawType": "int64",
         "type": "integer"
        },
        {
         "name": "0",
         "rawType": "int64",
         "type": "integer"
        }
       ],
       "ref": "3837ae34-d45e-4406-8f83-da2f0dca5e9d",
       "rows": [
        [
         "1",
         "3"
        ],
        [
         "2",
         "1"
        ],
        [
         "3",
         "4"
        ]
       ],
       "shape": {
        "columns": 1,
        "rows": 3
       }
      },
      "text/plain": [
       "tier\n",
       "1    3\n",
       "2    1\n",
       "3    4\n",
       "dtype: int64"
      ]
     },
     "execution_count": 20,
     "metadata": {},
     "output_type": "execute_result"
    }
   ],
   "source": [
    "df_pivot.isnull().sum()"
   ]
  },
  {
   "cell_type": "code",
   "execution_count": 48,
   "id": "0ab40d12",
   "metadata": {},
   "outputs": [
    {
     "data": {
      "application/vnd.microsoft.datawrangler.viewer.v0+json": {
       "columns": [
        {
         "name": "outlet_year",
         "rawType": "int64",
         "type": "integer"
        },
        {
         "name": "1",
         "rawType": "float64",
         "type": "float"
        },
        {
         "name": "2",
         "rawType": "float64",
         "type": "float"
        },
        {
         "name": "3",
         "rawType": "float64",
         "type": "float"
        }
       ],
       "ref": "e42cd9a1-4fe8-459e-87a5-85bb829abb60",
       "rows": [
        [
         "1987",
         "1948.259842123333",
         "2563.5566245",
         "1439.3661247666666"
        ],
        [
         "1988",
         "1948.259842123333",
         "857.7862198999998",
         "3651.266895"
        ],
        [
         "1996",
         "1667.3773740000001",
         "1762.4565951898146",
         "1900.4768299999998"
        ],
        [
         "1997",
         "1938.51206475",
         "1765.128145375",
         "1556.877108"
        ],
        [
         "1998",
         "1935.5118309",
         "618.0276743",
         "1900.4768299999998"
        ],
        [
         "1999",
         "3035.712633",
         "3977.928645",
         "1900.4768299999998"
        ],
        [
         "2003",
         "1948.259842123333",
         "1639.303513",
         "1900.4768299999998"
        ],
        [
         "2004",
         "1297.3360752133333",
         "1428.5024730333334",
         "2052.7935905"
        ],
        [
         "2008",
         "2664.773737",
         "2749.3870429999997",
         "819.3144944000001"
        ],
        [
         "2009",
         "1098.59518",
         "262.4890186",
         "1883.2427673333336"
        ]
       ],
       "shape": {
        "columns": 3,
        "rows": 10
       }
      },
      "text/html": [
       "<div>\n",
       "<style scoped>\n",
       "    .dataframe tbody tr th:only-of-type {\n",
       "        vertical-align: middle;\n",
       "    }\n",
       "\n",
       "    .dataframe tbody tr th {\n",
       "        vertical-align: top;\n",
       "    }\n",
       "\n",
       "    .dataframe thead th {\n",
       "        text-align: right;\n",
       "    }\n",
       "</style>\n",
       "<table border=\"1\" class=\"dataframe\">\n",
       "  <thead>\n",
       "    <tr style=\"text-align: right;\">\n",
       "      <th>tier</th>\n",
       "      <th>1</th>\n",
       "      <th>2</th>\n",
       "      <th>3</th>\n",
       "    </tr>\n",
       "    <tr>\n",
       "      <th>outlet_year</th>\n",
       "      <th></th>\n",
       "      <th></th>\n",
       "      <th></th>\n",
       "    </tr>\n",
       "  </thead>\n",
       "  <tbody>\n",
       "    <tr>\n",
       "      <th>1987</th>\n",
       "      <td>1948.259842</td>\n",
       "      <td>2563.556624</td>\n",
       "      <td>1439.366125</td>\n",
       "    </tr>\n",
       "    <tr>\n",
       "      <th>1988</th>\n",
       "      <td>1948.259842</td>\n",
       "      <td>857.786220</td>\n",
       "      <td>3651.266895</td>\n",
       "    </tr>\n",
       "    <tr>\n",
       "      <th>1996</th>\n",
       "      <td>1667.377374</td>\n",
       "      <td>1762.456595</td>\n",
       "      <td>1900.476830</td>\n",
       "    </tr>\n",
       "    <tr>\n",
       "      <th>1997</th>\n",
       "      <td>1938.512065</td>\n",
       "      <td>1765.128145</td>\n",
       "      <td>1556.877108</td>\n",
       "    </tr>\n",
       "    <tr>\n",
       "      <th>1998</th>\n",
       "      <td>1935.511831</td>\n",
       "      <td>618.027674</td>\n",
       "      <td>1900.476830</td>\n",
       "    </tr>\n",
       "    <tr>\n",
       "      <th>1999</th>\n",
       "      <td>3035.712633</td>\n",
       "      <td>3977.928645</td>\n",
       "      <td>1900.476830</td>\n",
       "    </tr>\n",
       "    <tr>\n",
       "      <th>2003</th>\n",
       "      <td>1948.259842</td>\n",
       "      <td>1639.303513</td>\n",
       "      <td>1900.476830</td>\n",
       "    </tr>\n",
       "    <tr>\n",
       "      <th>2004</th>\n",
       "      <td>1297.336075</td>\n",
       "      <td>1428.502473</td>\n",
       "      <td>2052.793590</td>\n",
       "    </tr>\n",
       "    <tr>\n",
       "      <th>2008</th>\n",
       "      <td>2664.773737</td>\n",
       "      <td>2749.387043</td>\n",
       "      <td>819.314494</td>\n",
       "    </tr>\n",
       "    <tr>\n",
       "      <th>2009</th>\n",
       "      <td>1098.595180</td>\n",
       "      <td>262.489019</td>\n",
       "      <td>1883.242767</td>\n",
       "    </tr>\n",
       "  </tbody>\n",
       "</table>\n",
       "</div>"
      ],
      "text/plain": [
       "tier                   1            2            3\n",
       "outlet_year                                       \n",
       "1987         1948.259842  2563.556624  1439.366125\n",
       "1988         1948.259842   857.786220  3651.266895\n",
       "1996         1667.377374  1762.456595  1900.476830\n",
       "1997         1938.512065  1765.128145  1556.877108\n",
       "1998         1935.511831   618.027674  1900.476830\n",
       "1999         3035.712633  3977.928645  1900.476830\n",
       "2003         1948.259842  1639.303513  1900.476830\n",
       "2004         1297.336075  1428.502473  2052.793590\n",
       "2008         2664.773737  2749.387043   819.314494\n",
       "2009         1098.595180   262.489019  1883.242767"
      ]
     },
     "execution_count": 48,
     "metadata": {},
     "output_type": "execute_result"
    }
   ],
   "source": [
    "df_pivot = df_pivot.fillna(df_pivot.mean())\n",
    "df_pivot"
   ]
  },
  {
   "cell_type": "code",
   "execution_count": 49,
   "id": "2ede3dd5",
   "metadata": {},
   "outputs": [
    {
     "data": {
      "image/png": "[encoded data removed]",
      "text/plain": [
       "<Figure size 800x600 with 2 Axes>"
      ]
     },
     "metadata": {},
     "output_type": "display_data"
    }
   ],
   "source": [
    "# visualize\n",
    "plt.figure(figsize = (8, 6))\n",
    "sns.heatmap(\n",
    "    data = df_pivot,\n",
    "    annot = True,\n",
    "    fmt = \".2f\",\n",
    "    annot_kws= {\n",
    "        \"size\": 10,\n",
    "        \"weight\": \"bold\",\n",
    "        \"color\": \"red\"\n",
    "    },\n",
    "    linewidths = 0.8,\n",
    "    linecolor = \"black\"   \n",
    "    )\n",
    "plt.title(\"Heatmap of Pivot Table\")\n",
    "plt.xlabel(\"Tier\")\n",
    "plt.ylabel(\"Outlet Year\")\n",
    "plt.tight_layout()\n",
    "plt.show()"
   ]
  },
  {
   "cell_type": "code",
   "execution_count": null,
   "id": "2c1f2349",
   "metadata": {},
   "outputs": [
    {
     "data": {
      "application/vnd.microsoft.datawrangler.viewer.v0+json": {
       "columns": [
        {
         "name": "index",
         "rawType": "int64",
         "type": "integer"
        },
        {
         "name": "item_id",
         "rawType": "object",
         "type": "string"
        },
        {
         "name": "item_w",
         "rawType": "float64",
         "type": "float"
        },
        {
         "name": "item_type",
         "rawType": "object",
         "type": "string"
        },
        {
         "name": "item_mrp",
         "rawType": "float64",
         "type": "float"
        },
        {
         "name": "outlet_id",
         "rawType": "object",
         "type": "string"
        },
        {
         "name": "outlet_year",
         "rawType": "int64",
         "type": "integer"
        },
        {
         "name": "outlet_size",
         "rawType": "object",
         "type": "string"
        },
        {
         "name": "outlet_location_type",
         "rawType": "object",
         "type": "string"
        },
        {
         "name": "sales",
         "rawType": "float64",
         "type": "float"
        },
        {
         "name": "tier",
         "rawType": "int64",
         "type": "integer"
        }
       ],
       "ref": "cbc36695-b2d7-4838-8839-127cda7905c9",
       "rows": [
        [
         "0",
         "FDN27",
         "9.437510323",
         "Snack Foods",
         "195.3132437",
         "OUT046",
         "1997",
         "Small",
         "Tier 1",
         "897.0855615",
         "1"
        ],
        [
         "1",
         "FDW35",
         "9.033762237000001",
         "Fruits and Vegetables",
         "36.37144892",
         "OUT035",
         "2003",
         "Small",
         "Tier 2",
         "1639.303513",
         "2"
        ],
        [
         "2",
         "FDS28",
         "20.88484944",
         "Frozen Foods",
         "70.31816664",
         "OUT013",
         "2008",
         "Small",
         "Tier 1",
         "2664.773737",
         "1"
        ],
        [
         "3",
         "FDC09",
         "19.97629965",
         "Snack Foods",
         "121.7232643",
         "OUT018",
         "2009",
         "Medium",
         "Tier 3",
         "440.8595925",
         "3"
        ],
        [
         "4",
         "FDX04",
         "10.82481245",
         "Snack Foods",
         "264.6733019",
         "OUT035",
         "2004",
         "Small",
         "Tier 1",
         "29.80709824",
         "1"
        ],
        [
         "5",
         "FDR16",
         "9.82729523",
         "Hard Drinks",
         "156.443152",
         "OUT035",
         "2004",
         "Small",
         "Tier 2",
         "1702.480561",
         "2"
        ],
        [
         "6",
         "FDU36",
         "14.33059652",
         "Breads",
         "62.46062256",
         "OUT013",
         "1988",
         "High",
         "Tier 3",
         "3651.266895",
         "3"
        ],
        [
         "7",
         "FDD40",
         "20.92001616",
         "Health and Hygiene",
         "197.5516759",
         "OUT018",
         "2008",
         "Medium",
         "Tier 3",
         "1001.051215",
         "3"
        ],
        [
         "8",
         "FDA21",
         "10.59698865",
         "Breads",
         "148.1529447",
         "OUT018",
         "2009",
         "Medium",
         "Tier 3",
         "4490.245081",
         "3"
        ],
        [
         "9",
         "FDZ36",
         "11.39383827",
         "Fruits and Vegetables",
         "142.5692275999999",
         "OUT013",
         "1987",
         "Medium",
         "Tier 3",
         "1045.165624",
         "3"
        ]
       ],
       "shape": {
        "columns": 10,
        "rows": 10
       }
      },
      "text/html": [
       "<div>\n",
       "<style scoped>\n",
       "    .dataframe tbody tr th:only-of-type {\n",
       "        vertical-align: middle;\n",
       "    }\n",
       "\n",
       "    .dataframe tbody tr th {\n",
       "        vertical-align: top;\n",
       "    }\n",
       "\n",
       "    .dataframe thead th {\n",
       "        text-align: right;\n",
       "    }\n",
       "</style>\n",
       "<table border=\"1\" class=\"dataframe\">\n",
       "  <thead>\n",
       "    <tr style=\"text-align: right;\">\n",
       "      <th></th>\n",
       "      <th>item_id</th>\n",
       "      <th>item_w</th>\n",
       "      <th>item_type</th>\n",
       "      <th>item_mrp</th>\n",
       "      <th>outlet_id</th>\n",
       "      <th>outlet_year</th>\n",
       "      <th>outlet_size</th>\n",
       "      <th>outlet_location_type</th>\n",
       "      <th>sales</th>\n",
       "      <th>tier</th>\n",
       "    </tr>\n",
       "  </thead>\n",
       "  <tbody>\n",
       "    <tr>\n",
       "      <th>0</th>\n",
       "      <td>FDN27</td>\n",
       "      <td>9.437510</td>\n",
       "      <td>Snack Foods</td>\n",
       "      <td>195.313244</td>\n",
       "      <td>OUT046</td>\n",
       "      <td>1997</td>\n",
       "      <td>Small</td>\n",
       "      <td>Tier 1</td>\n",
       "      <td>897.085562</td>\n",
       "      <td>1</td>\n",
       "    </tr>\n",
       "    <tr>\n",
       "      <th>1</th>\n",
       "      <td>FDW35</td>\n",
       "      <td>9.033762</td>\n",
       "      <td>Fruits and Vegetables</td>\n",
       "      <td>36.371449</td>\n",
       "      <td>OUT035</td>\n",
       "      <td>2003</td>\n",
       "      <td>Small</td>\n",
       "      <td>Tier 2</td>\n",
       "      <td>1639.303513</td>\n",
       "      <td>2</td>\n",
       "    </tr>\n",
       "    <tr>\n",
       "      <th>2</th>\n",
       "      <td>FDS28</td>\n",
       "      <td>20.884849</td>\n",
       "      <td>Frozen Foods</td>\n",
       "      <td>70.318167</td>\n",
       "      <td>OUT013</td>\n",
       "      <td>2008</td>\n",
       "      <td>Small</td>\n",
       "      <td>Tier 1</td>\n",
       "      <td>2664.773737</td>\n",
       "      <td>1</td>\n",
       "    </tr>\n",
       "    <tr>\n",
       "      <th>3</th>\n",
       "      <td>FDC09</td>\n",
       "      <td>19.976300</td>\n",
       "      <td>Snack Foods</td>\n",
       "      <td>121.723264</td>\n",
       "      <td>OUT018</td>\n",
       "      <td>2009</td>\n",
       "      <td>Medium</td>\n",
       "      <td>Tier 3</td>\n",
       "      <td>440.859593</td>\n",
       "      <td>3</td>\n",
       "    </tr>\n",
       "    <tr>\n",
       "      <th>4</th>\n",
       "      <td>FDX04</td>\n",
       "      <td>10.824812</td>\n",
       "      <td>Snack Foods</td>\n",
       "      <td>264.673302</td>\n",
       "      <td>OUT035</td>\n",
       "      <td>2004</td>\n",
       "      <td>Small</td>\n",
       "      <td>Tier 1</td>\n",
       "      <td>29.807098</td>\n",
       "      <td>1</td>\n",
       "    </tr>\n",
       "    <tr>\n",
       "      <th>5</th>\n",
       "      <td>FDR16</td>\n",
       "      <td>9.827295</td>\n",
       "      <td>Hard Drinks</td>\n",
       "      <td>156.443152</td>\n",
       "      <td>OUT035</td>\n",
       "      <td>2004</td>\n",
       "      <td>Small</td>\n",
       "      <td>Tier 2</td>\n",
       "      <td>1702.480561</td>\n",
       "      <td>2</td>\n",
       "    </tr>\n",
       "    <tr>\n",
       "      <th>6</th>\n",
       "      <td>FDU36</td>\n",
       "      <td>14.330597</td>\n",
       "      <td>Breads</td>\n",
       "      <td>62.460623</td>\n",
       "      <td>OUT013</td>\n",
       "      <td>1988</td>\n",
       "      <td>High</td>\n",
       "      <td>Tier 3</td>\n",
       "      <td>3651.266895</td>\n",
       "      <td>3</td>\n",
       "    </tr>\n",
       "    <tr>\n",
       "      <th>7</th>\n",
       "      <td>FDD40</td>\n",
       "      <td>20.920016</td>\n",
       "      <td>Health and Hygiene</td>\n",
       "      <td>197.551676</td>\n",
       "      <td>OUT018</td>\n",
       "      <td>2008</td>\n",
       "      <td>Medium</td>\n",
       "      <td>Tier 3</td>\n",
       "      <td>1001.051215</td>\n",
       "      <td>3</td>\n",
       "    </tr>\n",
       "    <tr>\n",
       "      <th>8</th>\n",
       "      <td>FDA21</td>\n",
       "      <td>10.596989</td>\n",
       "      <td>Breads</td>\n",
       "      <td>148.152945</td>\n",
       "      <td>OUT018</td>\n",
       "      <td>2009</td>\n",
       "      <td>Medium</td>\n",
       "      <td>Tier 3</td>\n",
       "      <td>4490.245081</td>\n",
       "      <td>3</td>\n",
       "    </tr>\n",
       "    <tr>\n",
       "      <th>9</th>\n",
       "      <td>FDZ36</td>\n",
       "      <td>11.393838</td>\n",
       "      <td>Fruits and Vegetables</td>\n",
       "      <td>142.569228</td>\n",
       "      <td>OUT013</td>\n",
       "      <td>1987</td>\n",
       "      <td>Medium</td>\n",
       "      <td>Tier 3</td>\n",
       "      <td>1045.165624</td>\n",
       "      <td>3</td>\n",
       "    </tr>\n",
       "  </tbody>\n",
       "</table>\n",
       "</div>"
      ],
      "text/plain": [
       "  item_id     item_w              item_type    item_mrp outlet_id  \\\n",
       "0   FDN27   9.437510            Snack Foods  195.313244    OUT046   \n",
       "1   FDW35   9.033762  Fruits and Vegetables   36.371449    OUT035   \n",
       "2   FDS28  20.884849           Frozen Foods   70.318167    OUT013   \n",
       "3   FDC09  19.976300            Snack Foods  121.723264    OUT018   \n",
       "4   FDX04  10.824812            Snack Foods  264.673302    OUT035   \n",
       "5   FDR16   9.827295            Hard Drinks  156.443152    OUT035   \n",
       "6   FDU36  14.330597                 Breads   62.460623    OUT013   \n",
       "7   FDD40  20.920016     Health and Hygiene  197.551676    OUT018   \n",
       "8   FDA21  10.596989                 Breads  148.152945    OUT018   \n",
       "9   FDZ36  11.393838  Fruits and Vegetables  142.569228    OUT013   \n",
       "\n",
       "   outlet_year outlet_size outlet_location_type        sales  tier  \n",
       "0         1997       Small               Tier 1   897.085562     1  \n",
       "1         2003       Small               Tier 2  1639.303513     2  \n",
       "2         2008       Small               Tier 1  2664.773737     1  \n",
       "3         2009      Medium               Tier 3   440.859593     3  \n",
       "4         2004       Small               Tier 1    29.807098     1  \n",
       "5         2004       Small               Tier 2  1702.480561     2  \n",
       "6         1988        High               Tier 3  3651.266895     3  \n",
       "7         2008      Medium               Tier 3  1001.051215     3  \n",
       "8         2009      Medium               Tier 3  4490.245081     3  \n",
       "9         1987      Medium               Tier 3  1045.165624     3  "
      ]
     },
     "execution_count": 47,
     "metadata": {},
     "output_type": "execute_result"
    }
   ],
   "source": [
    "# fillna\n",
    "tier_1_col_mean = df[df['tier'] == 1]['sales'].mean() # 1831.7797126242856\n",
    "tier_2_col_mean = df[df['tier'] == 2]['sales'].mean() # 1897.9531817388884\n",
    "tier_3_col_mean = df[df['tier'] == 3]['sales'].mean() # 1789.980191838889\n",
    "\n",
    "df[df['tier'] == 1].fillna(tier_1_col_mean)\n",
    "df[df['tier'] == 2].fillna(tier_2_col_mean)\n",
    "df[df['tier'] == 3].fillna(tier_3_col_mean)\n",
    "\n",
    "# assign to df\n",
    "\"\"\" \n",
    "df.loc[df['tier'] == 1, 'sales'] = df.loc[df['tier'] == 1, 'sales'].fillna(tier_1_col_mean)\n",
    "df.loc[df['tier'] == 2, 'sales'] = df.loc[df['tier'] == 2, 'sales'].fillna(tier_2_col_mean)\n",
    "df.loc[df['tier'] == 3, 'sales'] = df.loc[df['tier'] == 3, 'sales'].fillna(tier_3_col_mean)\n",
    "df.head(10)\n",
    "\"\"\" \n",
    "# other way\n",
    "df['sales'] = df['sales'].fillna(df.groupby('tier')['sales'].transform('mean'))\n",
    "\n"
   ]
  },
  {
   "cell_type": "code",
   "execution_count": 53,
   "id": "c4b3a7ee",
   "metadata": {},
   "outputs": [
    {
     "name": "stdout",
     "output_type": "stream",
     "text": [
      "['item_w', 'item_mrp', 'sales']\n"
     ]
    }
   ],
   "source": [
    "# corr()\n",
    "num_cols = [col for col in df.columns if df[col].dtype in ['float','int']]\n",
    "print(num_cols)"
   ]
  },
  {
   "cell_type": "code",
   "execution_count": 57,
   "id": "cf049ad6",
   "metadata": {},
   "outputs": [],
   "source": [
    "# correlation matrix\n",
    "corr_matrix = df[num_cols].corr()"
   ]
  },
  {
   "cell_type": "code",
   "execution_count": 65,
   "id": "9c57427c",
   "metadata": {},
   "outputs": [
    {
     "data": {
      "image/png": "[encoded data removed]",
      "text/plain": [
       "<Figure size 1000x600 with 2 Axes>"
      ]
     },
     "metadata": {},
     "output_type": "display_data"
    }
   ],
   "source": [
    "# visualize\n",
    "plt.figure(figsize = (10, 6))\n",
    "sns.heatmap(corr_matrix,\n",
    "            cmap = 'coolwarm' ,\n",
    "            vmin = -1,\n",
    "            vmax = 1,\n",
    "            #center = 0,\n",
    "            annot= True,\n",
    "            fmt = '.2f',\n",
    "            annot_kws= dict(\n",
    "                size = 12,\n",
    "                weight = 'bold',\n",
    "                color = \"white\"\n",
    "            ),\n",
    "            linecolor= \"black\",\n",
    "            linewidths= 0.6)\n",
    "plt.title(\"Correlation Matrix Heatmap\")\n",
    "plt.tight_layout()\n",
    "plt.show()"
   ]
  },
  {
   "cell_type": "code",
   "execution_count": null,
   "id": "47dafa58",
   "metadata": {},
   "outputs": [],
   "source": []
  }
 ],
 "metadata": {
  "kernelspec": {
   "display_name": "base",
   "language": "python",
   "name": "python3"
  },
  "language_info": {
   "codemirror_mode": {
    "name": "ipython",
    "version": 3
   },
   "file_extension": ".py",
   "mimetype": "text/x-python",
   "name": "python",
   "nbconvert_exporter": "python",
   "pygments_lexer": "ipython3",
   "version": "3.11.7"
  }
 },
 "nbformat": 4,
 "nbformat_minor": 5
}
