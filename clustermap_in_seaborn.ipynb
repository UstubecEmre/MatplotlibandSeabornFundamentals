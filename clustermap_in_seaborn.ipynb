{
 "cells": [
  {
   "cell_type": "markdown",
   "id": "7b160175",
   "metadata": {},
   "source": [
    "# 1. What is a Clustermap in Seaborn?\n",
    "A clustermap is a heatmap + hierarchical clustering combined into one visualization. \n",
    "\n",
    "> It shows both:\n",
    "\n",
    "✅ A heatmap of values (like a correlation matrix or expression levels)\n",
    "\n",
    "✅ Dendrograms that show how rows and columns are grouped together based on similarity\n",
    "\n",
    "# 2. Why Do We Use It?\n",
    "Because a clustermap does more than a heatmap:\n",
    "\n",
    "It doesn't just show data, it organizes and groups similar rows/columns together.\n",
    "\n",
    "It reveals hidden patterns, clusters, and structures in your data.\n",
    "\n",
    "\n",
    "### 2.1. Use Cases\n",
    "<table class = \"styled_table\">\n",
    "    <tr>\n",
    "        <th>Use Case</th>\n",
    "        <th>Description</th>\n",
    "    </tr>\n",
    "    <tr>\n",
    "        <td>Bioinformatics / Genetics</td>\n",
    "        <td>Clustering gene expression or protein activity</td>\n",
    "    <tr>\n",
    "    <tr>\n",
    "        <td>Market Segmentation</td>\n",
    "        <td>Finding groups of similar customers or products</td>\n",
    "    <tr>\n",
    "    <tr>\n",
    "        <td><b>Exploratory Data Analysis (EDA)</b></td>\n",
    "        <td><b>Automatically group related features or time periods</b></td>\n",
    "    <tr>\n",
    "    <tr>\n",
    "        <td><b>Machine Learning (unsupervised)</b></td>\n",
    "        <td><b>Quick visual clustering (e.g., pre-k-means inspection)</b></td>\n",
    "    <tr>\n",
    "</table>\n",
    "\n",
    "### 2.2. Is It Important?\n",
    "Of course!\n",
    "\n",
    "We will use especially for high-dimensional data.\n",
    "\n",
    "<table>\n",
    "    <tr>\n",
    "        <th>Feature</th>\n",
    "        <th>Clustermap Advantage</th>\n",
    "    </tr>\n",
    "    <tr>\n",
    "        <td>Large Dataset</td>\n",
    "        <td>Automatically finds and shows structure</td>\n",
    "    <tr>\n",
    "    <tr>\n",
    "        <td>Many features/variables</td>\n",
    "        <td>Easier to digest compared to raw heatmap</td>\n",
    "    <tr>\n",
    "    <tr>\n",
    "        <td><b>Unlabeled data</b></td>\n",
    "        <td><b>Helps discover patterns before modeling</b></td>\n",
    "    <tr>\n",
    "</table>\n"
   ]
  },
  {
   "cell_type": "code",
   "execution_count": 3,
   "id": "a5dba614",
   "metadata": {},
   "outputs": [],
   "source": [
    "# import libraries\n",
    "import pandas as pd\n",
    "import matplotlib.pyplot as plt\n",
    "import seaborn as sns"
   ]
  },
  {
   "cell_type": "code",
   "execution_count": 4,
   "id": "d1bf8013",
   "metadata": {},
   "outputs": [
    {
     "data": {
      "application/vnd.microsoft.datawrangler.viewer.v0+json": {
       "columns": [
        {
         "name": "index",
         "rawType": "int64",
         "type": "integer"
        },
        {
         "name": "Item_ID",
         "rawType": "object",
         "type": "string"
        },
        {
         "name": "Item_W",
         "rawType": "float64",
         "type": "float"
        },
        {
         "name": "Item_Type",
         "rawType": "object",
         "type": "string"
        },
        {
         "name": "Item_MRP",
         "rawType": "float64",
         "type": "float"
        },
        {
         "name": "Outlet_ID",
         "rawType": "object",
         "type": "string"
        },
        {
         "name": "Outlet_Year",
         "rawType": "int64",
         "type": "integer"
        },
        {
         "name": "Outlet_Size",
         "rawType": "object",
         "type": "string"
        },
        {
         "name": "Outlet_Location_Type",
         "rawType": "object",
         "type": "string"
        },
        {
         "name": "Sales",
         "rawType": "float64",
         "type": "float"
        },
        {
         "name": "Tier",
         "rawType": "int64",
         "type": "integer"
        }
       ],
       "ref": "fbb04e2a-d067-4d9f-9a12-7f30f57894f8",
       "rows": [
        [
         "0",
         "FDN27",
         "9.437510323",
         "Snack Foods",
         "195.3132437",
         "OUT046",
         "1997",
         "Small",
         "Tier 1",
         "897.0855615",
         "1"
        ],
        [
         "1",
         "FDW35",
         "9.033762237000001",
         "Fruits and Vegetables",
         "36.37144892",
         "OUT035",
         "2003",
         "Small",
         "Tier 2",
         "1639.303513",
         "2"
        ],
        [
         "2",
         "FDS28",
         "20.88484944",
         "Frozen Foods",
         "70.31816664",
         "OUT013",
         "2008",
         "Small",
         "Tier 1",
         "2664.773737",
         "1"
        ],
        [
         "3",
         "FDC09",
         "19.97629965",
         "Snack Foods",
         "121.7232643",
         "OUT018",
         "2009",
         "Medium",
         "Tier 3",
         "440.8595925",
         "3"
        ],
        [
         "4",
         "FDX04",
         "10.82481245",
         "Snack Foods",
         "264.6733019",
         "OUT035",
         "2004",
         "Small",
         "Tier 1",
         "29.80709824",
         "1"
        ]
       ],
       "shape": {
        "columns": 10,
        "rows": 5
       }
      },
      "text/html": [
       "<div>\n",
       "<style scoped>\n",
       "    .dataframe tbody tr th:only-of-type {\n",
       "        vertical-align: middle;\n",
       "    }\n",
       "\n",
       "    .dataframe tbody tr th {\n",
       "        vertical-align: top;\n",
       "    }\n",
       "\n",
       "    .dataframe thead th {\n",
       "        text-align: right;\n",
       "    }\n",
       "</style>\n",
       "<table border=\"1\" class=\"dataframe\">\n",
       "  <thead>\n",
       "    <tr style=\"text-align: right;\">\n",
       "      <th></th>\n",
       "      <th>Item_ID</th>\n",
       "      <th>Item_W</th>\n",
       "      <th>Item_Type</th>\n",
       "      <th>Item_MRP</th>\n",
       "      <th>Outlet_ID</th>\n",
       "      <th>Outlet_Year</th>\n",
       "      <th>Outlet_Size</th>\n",
       "      <th>Outlet_Location_Type</th>\n",
       "      <th>Sales</th>\n",
       "      <th>Tier</th>\n",
       "    </tr>\n",
       "  </thead>\n",
       "  <tbody>\n",
       "    <tr>\n",
       "      <th>0</th>\n",
       "      <td>FDN27</td>\n",
       "      <td>9.437510</td>\n",
       "      <td>Snack Foods</td>\n",
       "      <td>195.313244</td>\n",
       "      <td>OUT046</td>\n",
       "      <td>1997</td>\n",
       "      <td>Small</td>\n",
       "      <td>Tier 1</td>\n",
       "      <td>897.085562</td>\n",
       "      <td>1</td>\n",
       "    </tr>\n",
       "    <tr>\n",
       "      <th>1</th>\n",
       "      <td>FDW35</td>\n",
       "      <td>9.033762</td>\n",
       "      <td>Fruits and Vegetables</td>\n",
       "      <td>36.371449</td>\n",
       "      <td>OUT035</td>\n",
       "      <td>2003</td>\n",
       "      <td>Small</td>\n",
       "      <td>Tier 2</td>\n",
       "      <td>1639.303513</td>\n",
       "      <td>2</td>\n",
       "    </tr>\n",
       "    <tr>\n",
       "      <th>2</th>\n",
       "      <td>FDS28</td>\n",
       "      <td>20.884849</td>\n",
       "      <td>Frozen Foods</td>\n",
       "      <td>70.318167</td>\n",
       "      <td>OUT013</td>\n",
       "      <td>2008</td>\n",
       "      <td>Small</td>\n",
       "      <td>Tier 1</td>\n",
       "      <td>2664.773737</td>\n",
       "      <td>1</td>\n",
       "    </tr>\n",
       "    <tr>\n",
       "      <th>3</th>\n",
       "      <td>FDC09</td>\n",
       "      <td>19.976300</td>\n",
       "      <td>Snack Foods</td>\n",
       "      <td>121.723264</td>\n",
       "      <td>OUT018</td>\n",
       "      <td>2009</td>\n",
       "      <td>Medium</td>\n",
       "      <td>Tier 3</td>\n",
       "      <td>440.859593</td>\n",
       "      <td>3</td>\n",
       "    </tr>\n",
       "    <tr>\n",
       "      <th>4</th>\n",
       "      <td>FDX04</td>\n",
       "      <td>10.824812</td>\n",
       "      <td>Snack Foods</td>\n",
       "      <td>264.673302</td>\n",
       "      <td>OUT035</td>\n",
       "      <td>2004</td>\n",
       "      <td>Small</td>\n",
       "      <td>Tier 1</td>\n",
       "      <td>29.807098</td>\n",
       "      <td>1</td>\n",
       "    </tr>\n",
       "  </tbody>\n",
       "</table>\n",
       "</div>"
      ],
      "text/plain": [
       "  Item_ID     Item_W              Item_Type    Item_MRP Outlet_ID  \\\n",
       "0   FDN27   9.437510            Snack Foods  195.313244    OUT046   \n",
       "1   FDW35   9.033762  Fruits and Vegetables   36.371449    OUT035   \n",
       "2   FDS28  20.884849           Frozen Foods   70.318167    OUT013   \n",
       "3   FDC09  19.976300            Snack Foods  121.723264    OUT018   \n",
       "4   FDX04  10.824812            Snack Foods  264.673302    OUT035   \n",
       "\n",
       "   Outlet_Year Outlet_Size Outlet_Location_Type        Sales  Tier  \n",
       "0         1997       Small               Tier 1   897.085562     1  \n",
       "1         2003       Small               Tier 2  1639.303513     2  \n",
       "2         2008       Small               Tier 1  2664.773737     1  \n",
       "3         2009      Medium               Tier 3   440.859593     3  \n",
       "4         2004       Small               Tier 1    29.807098     1  "
      ]
     },
     "execution_count": 4,
     "metadata": {},
     "output_type": "execute_result"
    }
   ],
   "source": [
    "# load dataset\n",
    "file_path = r\"D:\\DataVisualizationForPython\\datasets\\orders.xlsx\"\n",
    "\n",
    "file = pd.read_excel(file_path)\n",
    "\n",
    "if file is None:\n",
    "    raise FileNotFoundError(\"File Path Not Found. Please, Check Your File Path\")\n",
    "\n",
    "df = pd.DataFrame(file)\n",
    "df.head()"
   ]
  },
  {
   "cell_type": "code",
   "execution_count": 5,
   "id": "add25afc",
   "metadata": {},
   "outputs": [
    {
     "data": {
      "text/plain": [
       "Index(['item_id', 'item_w', 'item_type', 'item_mrp', 'outlet_id',\n",
       "       'outlet_year', 'outlet_size', 'outlet_location_type', 'sales', 'tier'],\n",
       "      dtype='object')"
      ]
     },
     "execution_count": 5,
     "metadata": {},
     "output_type": "execute_result"
    }
   ],
   "source": [
    "# convert to lower case all columns\n",
    "df.columns = df.columns.str.lower()\n",
    "df.columns"
   ]
  },
  {
   "cell_type": "code",
   "execution_count": 18,
   "id": "7f588898",
   "metadata": {},
   "outputs": [
    {
     "data": {
      "application/vnd.microsoft.datawrangler.viewer.v0+json": {
       "columns": [
        {
         "name": "outlet_year",
         "rawType": "int64",
         "type": "integer"
        },
        {
         "name": "1",
         "rawType": "float64",
         "type": "float"
        },
        {
         "name": "2",
         "rawType": "float64",
         "type": "float"
        },
        {
         "name": "3",
         "rawType": "float64",
         "type": "float"
        }
       ],
       "ref": "01f7b54f-971e-43f2-8387-39a7ec19d6fd",
       "rows": [
        [
         "1987",
         null,
         "2563.5566245",
         "1439.3661247666666"
        ],
        [
         "1988",
         null,
         "857.7862198999998",
         "3651.266895"
        ],
        [
         "1996",
         "1667.3773740000001",
         null,
         null
        ],
        [
         "1997",
         "1938.51206475",
         "1765.128145375",
         "1556.877108"
        ],
        [
         "1998",
         "1935.5118309",
         "618.0276743",
         null
        ],
        [
         "1999",
         "3035.712633",
         "3977.928645",
         null
        ],
        [
         "2003",
         null,
         "1639.303513",
         null
        ],
        [
         "2004",
         "1297.3360752133333",
         "1428.5024730333334",
         "2052.7935905"
        ],
        [
         "2008",
         "2664.773737",
         "2749.3870429999997",
         "819.3144944000001"
        ],
        [
         "2009",
         "1098.59518",
         "262.4890186",
         "1883.2427673333336"
        ]
       ],
       "shape": {
        "columns": 3,
        "rows": 10
       }
      },
      "text/html": [
       "<div>\n",
       "<style scoped>\n",
       "    .dataframe tbody tr th:only-of-type {\n",
       "        vertical-align: middle;\n",
       "    }\n",
       "\n",
       "    .dataframe tbody tr th {\n",
       "        vertical-align: top;\n",
       "    }\n",
       "\n",
       "    .dataframe thead th {\n",
       "        text-align: right;\n",
       "    }\n",
       "</style>\n",
       "<table border=\"1\" class=\"dataframe\">\n",
       "  <thead>\n",
       "    <tr style=\"text-align: right;\">\n",
       "      <th>tier</th>\n",
       "      <th>1</th>\n",
       "      <th>2</th>\n",
       "      <th>3</th>\n",
       "    </tr>\n",
       "    <tr>\n",
       "      <th>outlet_year</th>\n",
       "      <th></th>\n",
       "      <th></th>\n",
       "      <th></th>\n",
       "    </tr>\n",
       "  </thead>\n",
       "  <tbody>\n",
       "    <tr>\n",
       "      <th>1987</th>\n",
       "      <td>NaN</td>\n",
       "      <td>2563.556624</td>\n",
       "      <td>1439.366125</td>\n",
       "    </tr>\n",
       "    <tr>\n",
       "      <th>1988</th>\n",
       "      <td>NaN</td>\n",
       "      <td>857.786220</td>\n",
       "      <td>3651.266895</td>\n",
       "    </tr>\n",
       "    <tr>\n",
       "      <th>1996</th>\n",
       "      <td>1667.377374</td>\n",
       "      <td>NaN</td>\n",
       "      <td>NaN</td>\n",
       "    </tr>\n",
       "    <tr>\n",
       "      <th>1997</th>\n",
       "      <td>1938.512065</td>\n",
       "      <td>1765.128145</td>\n",
       "      <td>1556.877108</td>\n",
       "    </tr>\n",
       "    <tr>\n",
       "      <th>1998</th>\n",
       "      <td>1935.511831</td>\n",
       "      <td>618.027674</td>\n",
       "      <td>NaN</td>\n",
       "    </tr>\n",
       "    <tr>\n",
       "      <th>1999</th>\n",
       "      <td>3035.712633</td>\n",
       "      <td>3977.928645</td>\n",
       "      <td>NaN</td>\n",
       "    </tr>\n",
       "    <tr>\n",
       "      <th>2003</th>\n",
       "      <td>NaN</td>\n",
       "      <td>1639.303513</td>\n",
       "      <td>NaN</td>\n",
       "    </tr>\n",
       "    <tr>\n",
       "      <th>2004</th>\n",
       "      <td>1297.336075</td>\n",
       "      <td>1428.502473</td>\n",
       "      <td>2052.793590</td>\n",
       "    </tr>\n",
       "    <tr>\n",
       "      <th>2008</th>\n",
       "      <td>2664.773737</td>\n",
       "      <td>2749.387043</td>\n",
       "      <td>819.314494</td>\n",
       "    </tr>\n",
       "    <tr>\n",
       "      <th>2009</th>\n",
       "      <td>1098.595180</td>\n",
       "      <td>262.489019</td>\n",
       "      <td>1883.242767</td>\n",
       "    </tr>\n",
       "  </tbody>\n",
       "</table>\n",
       "</div>"
      ],
      "text/plain": [
       "tier                   1            2            3\n",
       "outlet_year                                       \n",
       "1987                 NaN  2563.556624  1439.366125\n",
       "1988                 NaN   857.786220  3651.266895\n",
       "1996         1667.377374          NaN          NaN\n",
       "1997         1938.512065  1765.128145  1556.877108\n",
       "1998         1935.511831   618.027674          NaN\n",
       "1999         3035.712633  3977.928645          NaN\n",
       "2003                 NaN  1639.303513          NaN\n",
       "2004         1297.336075  1428.502473  2052.793590\n",
       "2008         2664.773737  2749.387043   819.314494\n",
       "2009         1098.595180   262.489019  1883.242767"
      ]
     },
     "execution_count": 18,
     "metadata": {},
     "output_type": "execute_result"
    }
   ],
   "source": [
    "df_pivot = df.pivot_table(index = \"outlet_year\", columns=\"tier\", values=\"sales\")\n",
    "df_pivot\n",
    "\n",
    "# "
   ]
  },
  {
   "cell_type": "code",
   "execution_count": 8,
   "id": "3d2a3a0d",
   "metadata": {},
   "outputs": [
    {
     "data": {
      "application/vnd.microsoft.datawrangler.viewer.v0+json": {
       "columns": [
        {
         "name": "tier",
         "rawType": "int64",
         "type": "integer"
        },
        {
         "name": "0",
         "rawType": "int64",
         "type": "integer"
        }
       ],
       "ref": "cc1a4e60-2e8a-4811-a1c4-925cf966b576",
       "rows": [
        [
         "1",
         "3"
        ],
        [
         "2",
         "1"
        ],
        [
         "3",
         "4"
        ]
       ],
       "shape": {
        "columns": 1,
        "rows": 3
       }
      },
      "text/plain": [
       "tier\n",
       "1    3\n",
       "2    1\n",
       "3    4\n",
       "dtype: int64"
      ]
     },
     "execution_count": 8,
     "metadata": {},
     "output_type": "execute_result"
    }
   ],
   "source": [
    "# It shouldn't be missing values\n",
    "# sns.clustermap(data = df_pivot)\n",
    "df_pivot.isnull().sum()"
   ]
  },
  {
   "cell_type": "code",
   "execution_count": 16,
   "id": "9c1efebc",
   "metadata": {},
   "outputs": [
    {
     "data": {
      "application/vnd.microsoft.datawrangler.viewer.v0+json": {
       "columns": [
        {
         "name": "index",
         "rawType": "object",
         "type": "string"
        },
        {
         "name": "0",
         "rawType": "int64",
         "type": "integer"
        }
       ],
       "ref": "ddcfb041-29ae-4b07-aacd-9f846f12dcfb",
       "rows": [
        [
         "item_id",
         "0"
        ],
        [
         "item_w",
         "0"
        ],
        [
         "item_type",
         "0"
        ],
        [
         "item_mrp",
         "0"
        ],
        [
         "outlet_id",
         "0"
        ],
        [
         "outlet_year",
         "0"
        ],
        [
         "outlet_size",
         "0"
        ],
        [
         "outlet_location_type",
         "0"
        ],
        [
         "sales",
         "0"
        ],
        [
         "tier",
         "0"
        ]
       ],
       "shape": {
        "columns": 1,
        "rows": 10
       }
      },
      "text/plain": [
       "item_id                 0\n",
       "item_w                  0\n",
       "item_type               0\n",
       "item_mrp                0\n",
       "outlet_id               0\n",
       "outlet_year             0\n",
       "outlet_size             0\n",
       "outlet_location_type    0\n",
       "sales                   0\n",
       "tier                    0\n",
       "dtype: int64"
      ]
     },
     "execution_count": 16,
     "metadata": {},
     "output_type": "execute_result"
    }
   ],
   "source": [
    "# fillna or drop\n",
    "df['sales'] = df['sales'].fillna(df.groupby('tier')['sales'].transform('mean'))\n",
    "df.isnull().sum()\n"
   ]
  },
  {
   "cell_type": "code",
   "execution_count": 20,
   "id": "4b7dfadc",
   "metadata": {},
   "outputs": [
    {
     "data": {
      "application/vnd.microsoft.datawrangler.viewer.v0+json": {
       "columns": [
        {
         "name": "index",
         "rawType": "int64",
         "type": "integer"
        },
        {
         "name": "item_id",
         "rawType": "object",
         "type": "string"
        },
        {
         "name": "item_w",
         "rawType": "float64",
         "type": "float"
        },
        {
         "name": "item_type",
         "rawType": "object",
         "type": "string"
        },
        {
         "name": "item_mrp",
         "rawType": "float64",
         "type": "float"
        },
        {
         "name": "outlet_id",
         "rawType": "object",
         "type": "string"
        },
        {
         "name": "outlet_year",
         "rawType": "int64",
         "type": "integer"
        },
        {
         "name": "outlet_size",
         "rawType": "object",
         "type": "string"
        },
        {
         "name": "outlet_location_type",
         "rawType": "object",
         "type": "string"
        },
        {
         "name": "sales",
         "rawType": "float64",
         "type": "float"
        },
        {
         "name": "tier",
         "rawType": "int64",
         "type": "integer"
        }
       ],
       "ref": "5f7152ba-6dc6-4400-8049-eb1da0830b35",
       "rows": [
        [
         "0",
         "FDN27",
         "9.437510323",
         "Snack Foods",
         "195.3132437",
         "OUT046",
         "1997",
         "Small",
         "Tier 1",
         "897.0855615",
         "1"
        ],
        [
         "1",
         "FDW35",
         "9.033762237000001",
         "Fruits and Vegetables",
         "36.37144892",
         "OUT035",
         "2003",
         "Small",
         "Tier 2",
         "1639.303513",
         "2"
        ],
        [
         "2",
         "FDS28",
         "20.88484944",
         "Frozen Foods",
         "70.31816664",
         "OUT013",
         "2008",
         "Small",
         "Tier 1",
         "2664.773737",
         "1"
        ],
        [
         "3",
         "FDC09",
         "19.97629965",
         "Snack Foods",
         "121.7232643",
         "OUT018",
         "2009",
         "Medium",
         "Tier 3",
         "440.8595925",
         "3"
        ],
        [
         "4",
         "FDX04",
         "10.82481245",
         "Snack Foods",
         "264.6733019",
         "OUT035",
         "2004",
         "Small",
         "Tier 1",
         "29.80709824",
         "1"
        ]
       ],
       "shape": {
        "columns": 10,
        "rows": 5
       }
      },
      "text/html": [
       "<div>\n",
       "<style scoped>\n",
       "    .dataframe tbody tr th:only-of-type {\n",
       "        vertical-align: middle;\n",
       "    }\n",
       "\n",
       "    .dataframe tbody tr th {\n",
       "        vertical-align: top;\n",
       "    }\n",
       "\n",
       "    .dataframe thead th {\n",
       "        text-align: right;\n",
       "    }\n",
       "</style>\n",
       "<table border=\"1\" class=\"dataframe\">\n",
       "  <thead>\n",
       "    <tr style=\"text-align: right;\">\n",
       "      <th></th>\n",
       "      <th>item_id</th>\n",
       "      <th>item_w</th>\n",
       "      <th>item_type</th>\n",
       "      <th>item_mrp</th>\n",
       "      <th>outlet_id</th>\n",
       "      <th>outlet_year</th>\n",
       "      <th>outlet_size</th>\n",
       "      <th>outlet_location_type</th>\n",
       "      <th>sales</th>\n",
       "      <th>tier</th>\n",
       "    </tr>\n",
       "  </thead>\n",
       "  <tbody>\n",
       "    <tr>\n",
       "      <th>0</th>\n",
       "      <td>FDN27</td>\n",
       "      <td>9.437510</td>\n",
       "      <td>Snack Foods</td>\n",
       "      <td>195.313244</td>\n",
       "      <td>OUT046</td>\n",
       "      <td>1997</td>\n",
       "      <td>Small</td>\n",
       "      <td>Tier 1</td>\n",
       "      <td>897.085562</td>\n",
       "      <td>1</td>\n",
       "    </tr>\n",
       "    <tr>\n",
       "      <th>1</th>\n",
       "      <td>FDW35</td>\n",
       "      <td>9.033762</td>\n",
       "      <td>Fruits and Vegetables</td>\n",
       "      <td>36.371449</td>\n",
       "      <td>OUT035</td>\n",
       "      <td>2003</td>\n",
       "      <td>Small</td>\n",
       "      <td>Tier 2</td>\n",
       "      <td>1639.303513</td>\n",
       "      <td>2</td>\n",
       "    </tr>\n",
       "    <tr>\n",
       "      <th>2</th>\n",
       "      <td>FDS28</td>\n",
       "      <td>20.884849</td>\n",
       "      <td>Frozen Foods</td>\n",
       "      <td>70.318167</td>\n",
       "      <td>OUT013</td>\n",
       "      <td>2008</td>\n",
       "      <td>Small</td>\n",
       "      <td>Tier 1</td>\n",
       "      <td>2664.773737</td>\n",
       "      <td>1</td>\n",
       "    </tr>\n",
       "    <tr>\n",
       "      <th>3</th>\n",
       "      <td>FDC09</td>\n",
       "      <td>19.976300</td>\n",
       "      <td>Snack Foods</td>\n",
       "      <td>121.723264</td>\n",
       "      <td>OUT018</td>\n",
       "      <td>2009</td>\n",
       "      <td>Medium</td>\n",
       "      <td>Tier 3</td>\n",
       "      <td>440.859593</td>\n",
       "      <td>3</td>\n",
       "    </tr>\n",
       "    <tr>\n",
       "      <th>4</th>\n",
       "      <td>FDX04</td>\n",
       "      <td>10.824812</td>\n",
       "      <td>Snack Foods</td>\n",
       "      <td>264.673302</td>\n",
       "      <td>OUT035</td>\n",
       "      <td>2004</td>\n",
       "      <td>Small</td>\n",
       "      <td>Tier 1</td>\n",
       "      <td>29.807098</td>\n",
       "      <td>1</td>\n",
       "    </tr>\n",
       "  </tbody>\n",
       "</table>\n",
       "</div>"
      ],
      "text/plain": [
       "  item_id     item_w              item_type    item_mrp outlet_id  \\\n",
       "0   FDN27   9.437510            Snack Foods  195.313244    OUT046   \n",
       "1   FDW35   9.033762  Fruits and Vegetables   36.371449    OUT035   \n",
       "2   FDS28  20.884849           Frozen Foods   70.318167    OUT013   \n",
       "3   FDC09  19.976300            Snack Foods  121.723264    OUT018   \n",
       "4   FDX04  10.824812            Snack Foods  264.673302    OUT035   \n",
       "\n",
       "   outlet_year outlet_size outlet_location_type        sales  tier  \n",
       "0         1997       Small               Tier 1   897.085562     1  \n",
       "1         2003       Small               Tier 2  1639.303513     2  \n",
       "2         2008       Small               Tier 1  2664.773737     1  \n",
       "3         2009      Medium               Tier 3   440.859593     3  \n",
       "4         2004       Small               Tier 1    29.807098     1  "
      ]
     },
     "execution_count": 20,
     "metadata": {},
     "output_type": "execute_result"
    }
   ],
   "source": [
    "# fillna or drop\n",
    "tier_1_col_mean = df[df['tier'] == 1]['sales'].mean() # 1831.7797126242856\n",
    "tier_2_col_mean = df[df['tier'] == 2]['sales'].mean() # 1897.9531817388884\n",
    "tier_3_col_mean = df[df['tier'] == 3]['sales'].mean() # 1789.980191838889\n",
    "\n",
    "df.loc[df['tier'] == 1, 'sales'] = df.loc[df['tier'] == 1, 'sales'].fillna(tier_1_col_mean)\n",
    "df.loc[df['tier'] == 2, 'sales'] = df.loc[df['tier'] == 2, 'sales'].fillna(tier_2_col_mean)\n",
    "df.loc[df['tier'] == 3, 'sales'] = df.loc[df['tier'] == 3, 'sales'].fillna(tier_3_col_mean)\n",
    "\n",
    "df.head()"
   ]
  },
  {
   "cell_type": "code",
   "execution_count": null,
   "id": "4ff20351",
   "metadata": {},
   "outputs": [
    {
     "data": {
      "application/vnd.microsoft.datawrangler.viewer.v0+json": {
       "columns": [
        {
         "name": "outlet_year",
         "rawType": "int64",
         "type": "integer"
        },
        {
         "name": "1",
         "rawType": "float64",
         "type": "float"
        },
        {
         "name": "2",
         "rawType": "float64",
         "type": "float"
        },
        {
         "name": "3",
         "rawType": "float64",
         "type": "float"
        }
       ],
       "ref": "79b83468-89ae-4f36-9c57-39f10486c9be",
       "rows": [
        [
         "1987",
         "1831.7797126242856",
         "2563.5566245",
         "1439.3661247666666"
        ],
        [
         "1988",
         "1831.7797126242856",
         "857.7862198999998",
         "3651.266895"
        ],
        [
         "1996",
         "1667.3773740000001",
         "1897.9531817388884",
         "1789.980191838889"
        ],
        [
         "1997",
         "1938.51206475",
         "1765.128145375",
         "1556.877108"
        ],
        [
         "1998",
         "1935.5118309",
         "618.0276743",
         "1789.980191838889"
        ]
       ],
       "shape": {
        "columns": 3,
        "rows": 5
       }
      },
      "text/html": [
       "<div>\n",
       "<style scoped>\n",
       "    .dataframe tbody tr th:only-of-type {\n",
       "        vertical-align: middle;\n",
       "    }\n",
       "\n",
       "    .dataframe tbody tr th {\n",
       "        vertical-align: top;\n",
       "    }\n",
       "\n",
       "    .dataframe thead th {\n",
       "        text-align: right;\n",
       "    }\n",
       "</style>\n",
       "<table border=\"1\" class=\"dataframe\">\n",
       "  <thead>\n",
       "    <tr style=\"text-align: right;\">\n",
       "      <th>tier</th>\n",
       "      <th>1</th>\n",
       "      <th>2</th>\n",
       "      <th>3</th>\n",
       "    </tr>\n",
       "    <tr>\n",
       "      <th>outlet_year</th>\n",
       "      <th></th>\n",
       "      <th></th>\n",
       "      <th></th>\n",
       "    </tr>\n",
       "  </thead>\n",
       "  <tbody>\n",
       "    <tr>\n",
       "      <th>1987</th>\n",
       "      <td>1831.779713</td>\n",
       "      <td>2563.556624</td>\n",
       "      <td>1439.366125</td>\n",
       "    </tr>\n",
       "    <tr>\n",
       "      <th>1988</th>\n",
       "      <td>1831.779713</td>\n",
       "      <td>857.786220</td>\n",
       "      <td>3651.266895</td>\n",
       "    </tr>\n",
       "    <tr>\n",
       "      <th>1996</th>\n",
       "      <td>1667.377374</td>\n",
       "      <td>1897.953182</td>\n",
       "      <td>1789.980192</td>\n",
       "    </tr>\n",
       "    <tr>\n",
       "      <th>1997</th>\n",
       "      <td>1938.512065</td>\n",
       "      <td>1765.128145</td>\n",
       "      <td>1556.877108</td>\n",
       "    </tr>\n",
       "    <tr>\n",
       "      <th>1998</th>\n",
       "      <td>1935.511831</td>\n",
       "      <td>618.027674</td>\n",
       "      <td>1789.980192</td>\n",
       "    </tr>\n",
       "  </tbody>\n",
       "</table>\n",
       "</div>"
      ],
      "text/plain": [
       "tier                   1            2            3\n",
       "outlet_year                                       \n",
       "1987         1831.779713  2563.556624  1439.366125\n",
       "1988         1831.779713   857.786220  3651.266895\n",
       "1996         1667.377374  1897.953182  1789.980192\n",
       "1997         1938.512065  1765.128145  1556.877108\n",
       "1998         1935.511831   618.027674  1789.980192"
      ]
     },
     "execution_count": 22,
     "metadata": {},
     "output_type": "execute_result"
    }
   ],
   "source": [
    "# Changes do not affect the pivot table\n",
    "\n",
    "df_pivot = df_pivot.fillna({\n",
    "    1: tier_1_col_mean,\n",
    "    2: tier_2_col_mean,\n",
    "    3: tier_3_col_mean\n",
    "})\n",
    "\n",
    "df_pivot.head()\n",
    "\n",
    "# other way: df_pivot = df_pivot.fillna(df_pivot.mean())"
   ]
  },
  {
   "cell_type": "code",
   "execution_count": null,
   "id": "44014935",
   "metadata": {},
   "outputs": [
    {
     "data": {
      "text/plain": [
       "<seaborn.matrix.ClusterGrid at 0x67252738d0>"
      ]
     },
     "execution_count": 29,
     "metadata": {},
     "output_type": "execute_result"
    },
    {
     "data": {
      "text/plain": [
       "<Figure size 1000x600 with 0 Axes>"
      ]
     },
     "metadata": {},
     "output_type": "display_data"
    },
    {
     "data": {
      "image/png": "[encoded data removed]",
      "text/plain": [
       "<Figure size 1000x1000 with 4 Axes>"
      ]
     },
     "metadata": {},
     "output_type": "display_data"
    }
   ],
   "source": [
    "plt.figure(figsize = (10,6))\n",
    "\n",
    "\n",
    "sns.clustermap(data = df_pivot, \n",
    "               cmap = \"autumn\",\n",
    "               annot = True,\n",
    "               fmt = \".2f\",\n",
    "               # if you want to try other argument, you can remove the comment line\n",
    "               # col_cluster= False,\n",
    "               # row_cluster= False\n",
    "               z_score= 0, #z_score = 0\n",
    "               #standard_scale = 0, standart_scale = 1\n",
    "               linewidth = 0.6\n",
    "               )"
   ]
  },
  {
   "cell_type": "markdown",
   "id": "cb032a78",
   "metadata": {},
   "source": [
    "## Argument Information:\n",
    "---\n",
    "standart_scale : normalize each row or column to mean 0 and std 1\"\n",
    "\n",
    "> Argument:\n",
    "\n",
    "0 → normalize rows\n",
    "\n",
    "1 → normalize columns\n",
    "\n",
    "---\n",
    "\n",
    "z_score → We can use scipy.stats.zscore() to apply z-score normalization.\n",
    "\n",
    "Formula:  <b> (x - mean) / std </b>\n",
    "\n",
    "> Argument:\n",
    "\n",
    "0 → z-score across rows\n",
    "\n",
    "1 → z-score across columns\n",
    "\n",
    "<em><mark>Final Tip:<mark></em>\n",
    "\n",
    ">> Don't Use Both at Once\n",
    "\n",
    ">> Only use one of standard_scale or z_score in a single clustermap call."
   ]
  }
 ],
 "metadata": {
  "kernelspec": {
   "display_name": "base",
   "language": "python",
   "name": "python3"
  },
  "language_info": {
   "codemirror_mode": {
    "name": "ipython",
    "version": 3
   },
   "file_extension": ".py",
   "mimetype": "text/x-python",
   "name": "python",
   "nbconvert_exporter": "python",
   "pygments_lexer": "ipython3",
   "version": "3.11.7"
  }
 },
 "nbformat": 4,
 "nbformat_minor": 5
}
