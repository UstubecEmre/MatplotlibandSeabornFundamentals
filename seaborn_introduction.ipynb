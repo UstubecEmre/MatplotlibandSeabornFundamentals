{
 "cells": [
  {
   "cell_type": "markdown",
   "id": "d72c5c43",
   "metadata": {},
   "source": [
    "# Seaborn Library\n",
    "\n",
    "# 1. What is Seaborn?\n",
    "Seaborn is a Python data visualization library based on <b>matplotlib</b>.\n",
    "\n",
    "It provides a high-level interface for drawing attractive and informative statistical graphics.\n",
    "\n",
    "\n",
    "# 2. 🎯 Why Do We Use Seaborn?\n",
    "o Simplifies complex plots: With fewer lines of code than Matplotlib, you can create attractive charts.\n",
    "\n",
    "o Beautiful default styles: Seaborn automatically applies appealing themes and color palettes.\n",
    "\n",
    "o Built-in statistical functions: It includes features like regression lines, distribution fitting, boxplots, violin plots, etc.\n",
    "\n",
    "o Works smoothly with Pandas: It understands DataFrame columns directly, which simplifies plotting.\n",
    "\n",
    "o Great for exploring data: Useful in EDA (Exploratory Data Analysis) to understand patterns, trends, and outliers.\n",
    "\n",
    "# 3. 📘 When Should You Use Seaborn?\n",
    "When you need quick and informative visualizations during data analysis.\n",
    "\n",
    "When you want statistical visualizations without writing lots of code.\n",
    "\n",
    "When working with Pandas DataFrames.\n",
    "\n",
    "\n",
    "# 4. Installing Seaborn\n",
    "pip install seaborn \n",
    "conda install seaborn\n"
   ]
  },
  {
   "cell_type": "code",
   "execution_count": 1,
   "id": "7e83cdd6",
   "metadata": {},
   "outputs": [],
   "source": [
    "# importing all the required libraries\n",
    "import pandas as pd\n",
    "import numpy as np\n",
    "import matplotlib.pyplot  as plt\n",
    "import seaborn as sns"
   ]
  },
  {
   "cell_type": "code",
   "execution_count": 6,
   "id": "92d35fbb",
   "metadata": {},
   "outputs": [
    {
     "data": {
      "application/vnd.microsoft.datawrangler.viewer.v0+json": {
       "columns": [
        {
         "name": "index",
         "rawType": "int64",
         "type": "integer"
        },
        {
         "name": "Invoice ID",
         "rawType": "object",
         "type": "string"
        },
        {
         "name": "Branch",
         "rawType": "object",
         "type": "string"
        },
        {
         "name": "City",
         "rawType": "object",
         "type": "string"
        },
        {
         "name": "Customer type",
         "rawType": "object",
         "type": "string"
        },
        {
         "name": "Gender",
         "rawType": "object",
         "type": "string"
        },
        {
         "name": "Product line",
         "rawType": "object",
         "type": "string"
        },
        {
         "name": "Unit price",
         "rawType": "float64",
         "type": "float"
        },
        {
         "name": "Quantity",
         "rawType": "int64",
         "type": "integer"
        },
        {
         "name": "Tax 5%",
         "rawType": "float64",
         "type": "float"
        },
        {
         "name": "Total",
         "rawType": "float64",
         "type": "float"
        },
        {
         "name": "Date",
         "rawType": "object",
         "type": "string"
        },
        {
         "name": "Time",
         "rawType": "object",
         "type": "string"
        },
        {
         "name": "Payment",
         "rawType": "object",
         "type": "string"
        },
        {
         "name": "cogs",
         "rawType": "float64",
         "type": "float"
        },
        {
         "name": "gross margin percentage",
         "rawType": "float64",
         "type": "float"
        },
        {
         "name": "gross income",
         "rawType": "float64",
         "type": "float"
        },
        {
         "name": "Rating",
         "rawType": "float64",
         "type": "float"
        }
       ],
       "ref": "f48bc523-84e4-4d2d-a536-8adaa006be27",
       "rows": [
        [
         "0",
         "692-92-5582",
         "B",
         "Mandalay",
         "Member",
         "Female",
         "Food_and_beverages",
         "54.84",
         "3",
         "8.226",
         "172.746",
         "2/20/2019",
         "13:27:00",
         "Credit card",
         "164.52",
         "4.761904762",
         "8.226",
         "5.9"
        ],
        [
         "1",
         "351-62-0822",
         "B",
         "Mandalay",
         "Member",
         "Female",
         "Fashion_accessories",
         "14.48",
         "4",
         "2.896",
         "60.816",
         "2019-06-02 00:00:00",
         "18:07:00",
         "Ewallet",
         "57.92",
         "4.761904762",
         "2.896",
         "4.5"
        ],
        [
         "2",
         "529-56-3974",
         "B",
         "Mandalay",
         "Member",
         "Male",
         "Electronic_accessories",
         "25.51",
         "4",
         "5.102",
         "107.142",
         "2019-09-03 00:00:00",
         "17:03:00",
         "Cash",
         "102.04",
         "4.761904762",
         "5.102",
         "6.8"
        ],
        [
         "3",
         "299-46-1805",
         "B",
         "Mandalay",
         "Member",
         "Female",
         "Sports_and_travel",
         "93.72",
         "6",
         "28.116",
         "590.436",
         "1/15/2019",
         "16:19:00",
         "Cash",
         "562.32",
         "4.761904762",
         "28.116",
         "4.5"
        ],
        [
         "4",
         "319-50-3348",
         "B",
         "Mandalay",
         "Normal",
         "Female",
         "Home_and_lifestyle",
         "40.3",
         "2",
         "4.03",
         "84.63",
         "2019-11-03 00:00:00",
         "15:30:00",
         "Ewallet",
         "80.6",
         "4.761904762",
         "4.03",
         "4.4"
        ]
       ],
       "shape": {
        "columns": 17,
        "rows": 5
       }
      },
      "text/html": [
       "<div>\n",
       "<style scoped>\n",
       "    .dataframe tbody tr th:only-of-type {\n",
       "        vertical-align: middle;\n",
       "    }\n",
       "\n",
       "    .dataframe tbody tr th {\n",
       "        vertical-align: top;\n",
       "    }\n",
       "\n",
       "    .dataframe thead th {\n",
       "        text-align: right;\n",
       "    }\n",
       "</style>\n",
       "<table border=\"1\" class=\"dataframe\">\n",
       "  <thead>\n",
       "    <tr style=\"text-align: right;\">\n",
       "      <th></th>\n",
       "      <th>Invoice ID</th>\n",
       "      <th>Branch</th>\n",
       "      <th>City</th>\n",
       "      <th>Customer type</th>\n",
       "      <th>Gender</th>\n",
       "      <th>Product line</th>\n",
       "      <th>Unit price</th>\n",
       "      <th>Quantity</th>\n",
       "      <th>Tax 5%</th>\n",
       "      <th>Total</th>\n",
       "      <th>Date</th>\n",
       "      <th>Time</th>\n",
       "      <th>Payment</th>\n",
       "      <th>cogs</th>\n",
       "      <th>gross margin percentage</th>\n",
       "      <th>gross income</th>\n",
       "      <th>Rating</th>\n",
       "    </tr>\n",
       "  </thead>\n",
       "  <tbody>\n",
       "    <tr>\n",
       "      <th>0</th>\n",
       "      <td>692-92-5582</td>\n",
       "      <td>B</td>\n",
       "      <td>Mandalay</td>\n",
       "      <td>Member</td>\n",
       "      <td>Female</td>\n",
       "      <td>Food_and_beverages</td>\n",
       "      <td>54.84</td>\n",
       "      <td>3</td>\n",
       "      <td>8.226</td>\n",
       "      <td>172.746</td>\n",
       "      <td>2/20/2019</td>\n",
       "      <td>13:27:00</td>\n",
       "      <td>Credit card</td>\n",
       "      <td>164.52</td>\n",
       "      <td>4.761905</td>\n",
       "      <td>8.226</td>\n",
       "      <td>5.9</td>\n",
       "    </tr>\n",
       "    <tr>\n",
       "      <th>1</th>\n",
       "      <td>351-62-0822</td>\n",
       "      <td>B</td>\n",
       "      <td>Mandalay</td>\n",
       "      <td>Member</td>\n",
       "      <td>Female</td>\n",
       "      <td>Fashion_accessories</td>\n",
       "      <td>14.48</td>\n",
       "      <td>4</td>\n",
       "      <td>2.896</td>\n",
       "      <td>60.816</td>\n",
       "      <td>2019-06-02 00:00:00</td>\n",
       "      <td>18:07:00</td>\n",
       "      <td>Ewallet</td>\n",
       "      <td>57.92</td>\n",
       "      <td>4.761905</td>\n",
       "      <td>2.896</td>\n",
       "      <td>4.5</td>\n",
       "    </tr>\n",
       "    <tr>\n",
       "      <th>2</th>\n",
       "      <td>529-56-3974</td>\n",
       "      <td>B</td>\n",
       "      <td>Mandalay</td>\n",
       "      <td>Member</td>\n",
       "      <td>Male</td>\n",
       "      <td>Electronic_accessories</td>\n",
       "      <td>25.51</td>\n",
       "      <td>4</td>\n",
       "      <td>5.102</td>\n",
       "      <td>107.142</td>\n",
       "      <td>2019-09-03 00:00:00</td>\n",
       "      <td>17:03:00</td>\n",
       "      <td>Cash</td>\n",
       "      <td>102.04</td>\n",
       "      <td>4.761905</td>\n",
       "      <td>5.102</td>\n",
       "      <td>6.8</td>\n",
       "    </tr>\n",
       "    <tr>\n",
       "      <th>3</th>\n",
       "      <td>299-46-1805</td>\n",
       "      <td>B</td>\n",
       "      <td>Mandalay</td>\n",
       "      <td>Member</td>\n",
       "      <td>Female</td>\n",
       "      <td>Sports_and_travel</td>\n",
       "      <td>93.72</td>\n",
       "      <td>6</td>\n",
       "      <td>28.116</td>\n",
       "      <td>590.436</td>\n",
       "      <td>1/15/2019</td>\n",
       "      <td>16:19:00</td>\n",
       "      <td>Cash</td>\n",
       "      <td>562.32</td>\n",
       "      <td>4.761905</td>\n",
       "      <td>28.116</td>\n",
       "      <td>4.5</td>\n",
       "    </tr>\n",
       "    <tr>\n",
       "      <th>4</th>\n",
       "      <td>319-50-3348</td>\n",
       "      <td>B</td>\n",
       "      <td>Mandalay</td>\n",
       "      <td>Normal</td>\n",
       "      <td>Female</td>\n",
       "      <td>Home_and_lifestyle</td>\n",
       "      <td>40.30</td>\n",
       "      <td>2</td>\n",
       "      <td>4.030</td>\n",
       "      <td>84.630</td>\n",
       "      <td>2019-11-03 00:00:00</td>\n",
       "      <td>15:30:00</td>\n",
       "      <td>Ewallet</td>\n",
       "      <td>80.60</td>\n",
       "      <td>4.761905</td>\n",
       "      <td>4.030</td>\n",
       "      <td>4.4</td>\n",
       "    </tr>\n",
       "  </tbody>\n",
       "</table>\n",
       "</div>"
      ],
      "text/plain": [
       "    Invoice ID Branch      City Customer type  Gender            Product line  \\\n",
       "0  692-92-5582      B  Mandalay        Member  Female      Food_and_beverages   \n",
       "1  351-62-0822      B  Mandalay        Member  Female     Fashion_accessories   \n",
       "2  529-56-3974      B  Mandalay        Member    Male  Electronic_accessories   \n",
       "3  299-46-1805      B  Mandalay        Member  Female       Sports_and_travel   \n",
       "4  319-50-3348      B  Mandalay        Normal  Female      Home_and_lifestyle   \n",
       "\n",
       "   Unit price  Quantity  Tax 5%    Total                 Date      Time  \\\n",
       "0       54.84         3   8.226  172.746            2/20/2019  13:27:00   \n",
       "1       14.48         4   2.896   60.816  2019-06-02 00:00:00  18:07:00   \n",
       "2       25.51         4   5.102  107.142  2019-09-03 00:00:00  17:03:00   \n",
       "3       93.72         6  28.116  590.436            1/15/2019  16:19:00   \n",
       "4       40.30         2   4.030   84.630  2019-11-03 00:00:00  15:30:00   \n",
       "\n",
       "       Payment    cogs  gross margin percentage  gross income  Rating  \n",
       "0  Credit card  164.52                 4.761905         8.226     5.9  \n",
       "1      Ewallet   57.92                 4.761905         2.896     4.5  \n",
       "2         Cash  102.04                 4.761905         5.102     6.8  \n",
       "3         Cash  562.32                 4.761905        28.116     4.5  \n",
       "4      Ewallet   80.60                 4.761905         4.030     4.4  "
      ]
     },
     "execution_count": 6,
     "metadata": {},
     "output_type": "execute_result"
    }
   ],
   "source": [
    "# file path\n",
    "file_path = r\"D:\\DataVisualizationForPython\\datasets\\supermarket_sales_utf8.csv\"\n",
    "sales = pd.read_csv(file_path)\n",
    "\n",
    "if sales is None:\n",
    "    raise FileNotFoundError(\"File Path Not Found, Please Check Your File Path\")\n",
    "\n",
    "\n",
    "df = pd.DataFrame(sales)\n",
    "df.head()"
   ]
  },
  {
   "cell_type": "code",
   "execution_count": 11,
   "id": "29ac1d14",
   "metadata": {},
   "outputs": [
    {
     "data": {
      "image/png": "[encoded data removed]",
      "text/plain": [
       "<Figure size 640x480 with 1 Axes>"
      ]
     },
     "metadata": {},
     "output_type": "display_data"
    }
   ],
   "source": [
    "# Countplot example\n",
    "sns.countplot(x = \"Gender\", data = df, color=\"yellow\")\n",
    "plt.title(\"Countplot Example\")\n",
    "plt.show()"
   ]
  },
  {
   "cell_type": "code",
   "execution_count": 17,
   "id": "da7ff796",
   "metadata": {},
   "outputs": [
    {
     "name": "stdout",
     "output_type": "stream",
     "text": [
      "Product line\n",
      "Fashion_accessories       178\n",
      "Food_and_beverages        174\n",
      "Electronic_accessories    170\n",
      "Sports_and_travel         166\n",
      "Home_and_lifestyle        160\n",
      "Health_and_beauty         152\n",
      "Name: count, dtype: int64\n",
      "['Food_and_beverages' 'Fashion_accessories' 'Electronic_accessories'\n",
      " 'Sports_and_travel' 'Home_and_lifestyle' 'Health_and_beauty']\n",
      "6\n"
     ]
    }
   ],
   "source": [
    "\n",
    "print(df[\"Product line\"].value_counts())\n",
    "print(df[\"Product line\"].unique())\n",
    "print(df[\"Product line\"].nunique())\n"
   ]
  },
  {
   "cell_type": "code",
   "execution_count": 20,
   "id": "b65a9790",
   "metadata": {},
   "outputs": [
    {
     "data": {
      "image/png": "[encoded data removed]",
      "text/plain": [
       "<Figure size 1200x600 with 1 Axes>"
      ]
     },
     "metadata": {},
     "output_type": "display_data"
    }
   ],
   "source": [
    "plt.figure(figsize = (12, 6))\n",
    "sns.countplot(data = df, x = \"Product line\", color = \"forestgreen\")\n",
    "plt.title(\"Countplot of Product Line\")\n",
    "plt.tight_layout()\n",
    "plt.show()"
   ]
  },
  {
   "cell_type": "code",
   "execution_count": null,
   "id": "216ad8b5",
   "metadata": {},
   "outputs": [],
   "source": []
  }
 ],
 "metadata": {
  "kernelspec": {
   "display_name": "base",
   "language": "python",
   "name": "python3"
  },
  "language_info": {
   "codemirror_mode": {
    "name": "ipython",
    "version": 3
   },
   "file_extension": ".py",
   "mimetype": "text/x-python",
   "name": "python",
   "nbconvert_exporter": "python",
   "pygments_lexer": "ipython3",
   "version": "3.11.7"
  }
 },
 "nbformat": 4,
 "nbformat_minor": 5
}
