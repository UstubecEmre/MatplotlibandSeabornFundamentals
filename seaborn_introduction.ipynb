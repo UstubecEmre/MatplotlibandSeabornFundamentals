{
 "cells": [
  {
   "cell_type": "markdown",
   "id": "d72c5c43",
   "metadata": {},
   "source": [
    "# Seaborn Library\n",
    "\n",
    "# 1. What is Seaborn?\n",
    "Seaborn is a Python data visualization library based on <b>matplotlib</b>.\n",
    "\n",
    "It provides a high-level interface for drawing attractive and informative statistical graphics.\n",
    "\n",
    "\n",
    "# 2. 🎯 Why Do We Use Seaborn?\n",
    "o Simplifies complex plots: With fewer lines of code than Matplotlib, you can create attractive charts.\n",
    "\n",
    "o Beautiful default styles: Seaborn automatically applies appealing themes and color palettes.\n",
    "\n",
    "o Built-in statistical functions: It includes features like regression lines, distribution fitting, boxplots, violin plots, etc.\n",
    "\n",
    "o Works smoothly with Pandas: It understands DataFrame columns directly, which simplifies plotting.\n",
    "\n",
    "o Great for exploring data: Useful in EDA (Exploratory Data Analysis) to understand patterns, trends, and outliers.\n"
   ]
  }
 ],
 "metadata": {
  "language_info": {
   "name": "python"
  }
 },
 "nbformat": 4,
 "nbformat_minor": 5
}
